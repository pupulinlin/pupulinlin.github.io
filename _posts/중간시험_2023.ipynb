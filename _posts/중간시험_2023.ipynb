{
  "nbformat": 4,
  "nbformat_minor": 0,
  "metadata": {
    "colab": {
      "provenance": []
    },
    "kernelspec": {
      "name": "python3",
      "display_name": "Python 3"
    },
    "language_info": {
      "name": "python"
    }
  },
  "cells": [
    {
      "cell_type": "markdown",
      "source": [
        "# 머신러닝 중간시험"
      ],
      "metadata": {
        "id": "Nuhvr2emPpsx"
      }
    },
    {
      "cell_type": "markdown",
      "source": [
        "**이름:**김도건\n",
        "\n",
        "**학번:**2021700085"
      ],
      "metadata": {
        "id": "dToCgdVLPyga"
      }
    },
    {
      "cell_type": "markdown",
      "source": [
        "**문제 1** (10점)"
      ],
      "metadata": {
        "id": "4IGtEseH1B9Z"
      }
    },
    {
      "cell_type": "markdown",
      "source": [
        "아래 코드는 캘리포니아 주택 가격 데이터셋을 전처리한다.\n",
        "`preprocessing` 이 가리키는 전처리 내용을 설명하라.\n",
        "\n",
        "```python\n",
        "num_attribs = [\"longitude\", \"latitude\", \"housing_median_age\", \"total_rooms\",\n",
        "               \"total_bedrooms\", \"population\", \"households\", \"median_income\"]\n",
        "cat_attribs = [\"ocean_proximity\"]\n",
        "num_pipeline = make_pipeline(SimpleImputer(strategy=\"median\"), \n",
        "                             StandardScaler())\n",
        "cat_pipeline = make_pipeline(SimpleImputer(strategy=\"most_frequent\"),\n",
        "                             OneHotEncoder(handle_unknown=\"ignore\"))\n",
        "preprocessing = ColumnTransformer([(\"num\", num_pipeline, num_attribs),\n",
        "                                   (\"cat\", cat_pipeline, cat_attribs)])\n",
        "```"
      ],
      "metadata": {
        "id": "3NvxOqvO1Ehd"
      }
    },
    {
      "cell_type": "markdown",
      "source": [
        "```\n",
        "ColumnTransformer를 통해서 수치형 특성들은 num_pipeline을\n",
        "범주형 특성들을 cat_pipelline을 통해서 전처리를 진행하도록 한다.\n",
        "```"
      ],
      "metadata": {
        "id": "CgWDslWC5GLz"
      }
    },
    {
      "cell_type": "markdown",
      "source": [
        "**문제 2** (10점)"
      ],
      "metadata": {
        "id": "8uJ7alWHtoqo"
      }
    },
    {
      "cell_type": "markdown",
      "source": [
        "아래 코드는 결정트리 회귀 모델인 `DecisionTreeRegressor`를 캘리포니아 주택 가격 예측에 활용하려 할 때 모델의 성능을 교차 검증으로 평가한다. \n",
        "아래 코드를 이용하여 교차 검증을 설명하라.\n",
        "\n",
        "```python\n",
        "tree_reg = make_pipeline(preprocessing, DecisionTreeRegressor(random_state=42))\n",
        "tree_rmses = -cross_val_score(tree_reg, housing, housing_labels,\n",
        "                              scoring=\"neg_root_mean_squared_error\", cv=10)\n",
        "```"
      ],
      "metadata": {
        "id": "7lB8-mtRtqBC"
      }
    },
    {
      "cell_type": "markdown",
      "source": [
        "```\n",
        "결정트리 회귀 모델을 k-겹 교차검증을 하는 코드 내용이고, 이때 폴드의 개수는 10개이다.\n",
        "\n",
        "\n",
        "```"
      ],
      "metadata": {
        "id": "2JBhF43Vvred"
      }
    },
    {
      "cell_type": "markdown",
      "source": [
        "**문제 3** (10점)"
      ],
      "metadata": {
        "id": "8H9r5HZHP94b"
      }
    },
    {
      "cell_type": "markdown",
      "source": [
        "아래 코드는 캘리포니아 주택 가격 데이터셋을 이용하여 최적의 주택 가격 예측 회귀 모델을 그리드 탐색으로 찾는다. 어떤 모델이 어떤 하이퍼파라미터 조합으로 총 몇 번 훈련되는가를 설명하라.\n",
        "\n",
        "```python\n",
        "full_pipeline = Pipeline([\n",
        "    (\"preprocessing\", preprocessing),\n",
        "    (\"random_forest\", RandomForestRegressor(random_state=42)),\n",
        "])\n",
        "param_grid = [\n",
        "    {'preprocessing__geo__n_clusters': [5, 8, 10, 15],\n",
        "    'random_forest__max_features': [4, 6, 8]},\n",
        "    {'preprocessing__geo__n_clusters': [10, 15],\n",
        "    'random_forest__max_features': [10, 12, 14, 16]},\n",
        "]\n",
        "grid_search = GridSearchCV(full_pipeline, param_grid, cv=5,\n",
        "                           scoring='neg_root_mean_squared_error')\n",
        "grid_search.fit(housing, housing_labels)\n",
        "```"
      ],
      "metadata": {
        "id": "yH1-QsiYqRt_"
      }
    },
    {
      "cell_type": "markdown",
      "source": [
        "```\n",
        "랜덤 포레스트 회귀 모델의 그리드 탐색을 하는 코드이고\n",
        "그리드 탐색은 가능한 모든 파라미터 조합을 교차검증해야하므로\n",
        "preprocessing__geo_n_clusters의 하이퍼 파라미터 4개 와 random_forest__max_features의 하이퍼 파라미터 3개의\n",
        "경우가 만나서 12개의 파라미터 조합이\n",
        "preprocessing__geo__n_cluster의 하이퍼 파라미터 2개와\n",
        "random_forest__max_features의 하이퍼 파라미터 4개가 만나\n",
        "8개의 파라미터 조합이 나와서 총 20개의 파라미터 조합이 나온다.\n",
        "그리고 이를 교차검증해하는데 폴드의 수를 5개로 지정했으므로\n",
        "총 100(20*5)번 훈련이 된다.\n",
        "```"
      ],
      "metadata": {
        "id": "0sypnSkSqQfm"
      }
    },
    {
      "cell_type": "markdown",
      "source": [
        "**문제 4** (10점)"
      ],
      "metadata": {
        "id": "UdmbIt28qQfn"
      }
    },
    {
      "cell_type": "markdown",
      "source": [
        "MNIST 데이터셋에 숫자5 판별기 모델을 훈련시키는 것과 관련된 문제이다.\n",
        "\n",
        "아래 그림은 다양한 결정 임곗값에 대한 정밀도와 재현율의 관계를 설명하기 위해 사용된다.\n",
        "결정 임곗값이 빨강 화살표가 가리키는 값일 때의 재현율과 정밀도를 계산하라. \n",
        "단, 답은 2/3, 4/5, 3/3 등 분수로 표기한다.\n",
        "\n",
        "<div align=\"center\"><img src=\"https://raw.githubusercontent.com/codingalzi/handson-ml3/master/jupyter-book/imgs/ch03/homl03-03a.png\" width=\"400\"/></div>"
      ],
      "metadata": {
        "id": "BOInXds4RYDL"
      }
    },
    {
      "cell_type": "markdown",
      "source": [
        "```\n",
        "정밀도: 3/4\n",
        "\n",
        "재현율: 1/2\n",
        "\n",
        "```"
      ],
      "metadata": {
        "id": "OZKehOurRFc1"
      }
    },
    {
      "cell_type": "markdown",
      "source": [
        "**문제 5** (10점)"
      ],
      "metadata": {
        "id": "rj6THt_0oo-1"
      }
    },
    {
      "cell_type": "markdown",
      "source": [
        "아래 코드는 MNIST 데이터셋을 이용하여 다중 출력 분류를 진행한다.\n",
        "\n",
        "```python\n",
        "noise = np.random.randint(0, 100, (len(X_train), 784))\n",
        "X_train_mod = X_train + noise\n",
        "y_train_mod = X_train\n",
        "knn_clf = KNeighborsClassifier()\n",
        "knn_clf.fit(X_train_mod, y_train_mod)\n",
        "```\n",
        "\n",
        "위 모델의 훈련에 사용되는 입력값과 타깃은 다음과 같은 형식이다.\n",
        "위 모델의 훈련을 이용하여 다중 출력 분류에 대해 설명하라.\n",
        "\n",
        "<div align=\"center\"><img src=\"https://raw.githubusercontent.com/codingalzi/handson-ml3/master/jupyter-book/imgs/ch03/homl03-11.png\" width=\"300\"/></div>"
      ],
      "metadata": {
        "id": "xl8beeyEoqp7"
      }
    },
    {
      "cell_type": "markdown",
      "source": [
        "```\n",
        "\n",
        "\n",
        "\n",
        "\n",
        "\n",
        "```"
      ],
      "metadata": {
        "id": "5Nm1MI4jpf4F"
      }
    },
    {
      "cell_type": "markdown",
      "source": [
        "**문제 6** (10점)"
      ],
      "metadata": {
        "id": "T5JgVcl0U7Ee"
      }
    },
    {
      "cell_type": "markdown",
      "source": [
        "다음은 선형 회귀 모델이 훈련 중에 사용하는 비용 함수인 평균 제곱 오차 공식이다.\n",
        "각 기호와 공식의 의미를 설명하라.\n",
        "\n",
        "$$\n",
        "\\mathrm{MSE}(\\mathbf{\\theta}) = \n",
        "\\frac 1 m \\sum_{i=0}^{m-1} \\big(\\mathbf{x}^{(i)}\\, \\mathbf{\\theta} - y^{(i)}\\big)^2\n",
        "$$"
      ],
      "metadata": {
        "id": "n7ycmf_9U8Eh"
      }
    },
    {
      "cell_type": "markdown",
      "source": [
        "```\n",
        "모델이 예측한 값과 타깃값 사이의 차이를 제곱한 것을 다 더한 뒤 배치크기로 나눈 것을 의미하며, 선형 회귀 모델은 이 비용함수가 가장 낮은 최적 모델을 찾는 것이 목적이다. 이때 m은 배치크기를, x^(i)는 i번째 특성의 예측값을, y(i)는 i번째 특성의 타깃값을 세타는 가중치를 의미한다.\n",
        "\n",
        "\n",
        "\n",
        "\n",
        "```"
      ],
      "metadata": {
        "id": "W5tn-VmPWXOP"
      }
    },
    {
      "cell_type": "markdown",
      "source": [
        "**문제 7** (10점)"
      ],
      "metadata": {
        "id": "KY3IWgF2jZ42"
      }
    },
    {
      "cell_type": "markdown",
      "source": [
        "아래 그래프를 이용하여 과대적합과 모델의 일반화 성능에 대해 설명하라.\n",
        "\n",
        "<div align=\"center\"><img src=\"https://raw.githubusercontent.com/codingalzi/handson-ml3/master/jupyter-book/imgs/ch04/homl04-11.png\" width=\"200\"/></div>"
      ],
      "metadata": {
        "id": "j24N7b0Pjpvq"
      }
    },
    {
      "cell_type": "markdown",
      "source": [
        "```\n",
        "과대적합 모델의 일반화 성능은 모델이 훈련셋에 과대적합 되기 전까지는\n",
        "검증셋에 대한 rmse가 낮아지는 방향으로 학습하다가 모델이 훈련셋에\n",
        "적응하여 과대적합 현상이 일어나면 위 그래프와 같이 Best model 점을 넘어서서\n",
        "검증셋에 대한 rmse가 훈련셋에 대한 rmse와 차이가 많이 나게 되고 이를 \n",
        "방지하고자 허용오차를 설정하여 조기 종료를 하기도 한다.\n",
        "\n",
        "\n",
        "```"
      ],
      "metadata": {
        "id": "juMwMyi-kHXg"
      }
    },
    {
      "cell_type": "markdown",
      "source": [
        "**문제 8** (10점)"
      ],
      "metadata": {
        "id": "-3-0sQKdeuDb"
      }
    },
    {
      "cell_type": "markdown",
      "source": [
        "아래 수식은 하나의 샘플에 대한 로그 손실을 보여준다. \n",
        "잘못 예측한 경우 로그 손실값이 어떻게 계산되는지 설명하라\n",
        "\n",
        "- $y$: 양성/음성 여부에 따라 1 또는 0\n",
        "- $\\hat p$: 입력 샘플이 양성일 확률. \n",
        "\n",
        "$$\n",
        " - \\left( y \\cdot \\log(\\,\\hat p\\,) + (1-y) \\cdot \\log(\\,1 - \\hat p\\,) \\right)\n",
        "$$\n",
        "\n",
        "힌트: 자연 로그 함수의 그래프는 다음과 같다.<br><br>\n",
        "\n",
        "<div align=\"center\"><img src=\"https://upload.wikimedia.org/wikipedia/commons/thumb/4/4a/Log_%282%29.svg/1920px-Log_%282%29.svg.png\" width=\"200\"/></div>"
      ],
      "metadata": {
        "id": "iuX_J1oEg4ox"
      }
    },
    {
      "cell_type": "markdown",
      "source": [
        "잘못 예측한 경우 로그 손실 값이 무한에 가깝도록 돼 비용함수가 늘어나가 돼 있어 최적의 값을 찾도록 조정하는 것을 도와준다.\n"
      ],
      "metadata": {
        "id": "itXR31jV--Ie"
      }
    }
  ]
}