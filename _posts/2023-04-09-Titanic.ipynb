{
 "cells": [
  {
   "cell_type": "markdown",
   "id": "d319636a",
   "metadata": {
    "papermill": {
     "duration": 0.017195,
     "end_time": "2023-04-08T20:42:11.290046",
     "exception": false,
     "start_time": "2023-04-08T20:42:11.272851",
     "status": "completed"
    },
    "tags": []
   },
   "source": [
    "# 1. 문제 정의하기"
   ]
  },
  {
   "cell_type": "markdown",
   "id": "8fd8b924",
   "metadata": {
    "papermill": {
     "duration": 0.016889,
     "end_time": "2023-04-08T20:42:11.322791",
     "exception": false,
     "start_time": "2023-04-08T20:42:11.305902",
     "status": "completed"
    },
    "tags": []
   },
   "source": [
    "타이타닉호에 탑승했던 사람들의 정보를 바탕으로 생존자를 예측하는 문제이다."
   ]
  },
  {
   "cell_type": "markdown",
   "id": "c069e76d",
   "metadata": {
    "papermill": {
     "duration": 0.016163,
     "end_time": "2023-04-08T20:42:11.355384",
     "exception": false,
     "start_time": "2023-04-08T20:42:11.339221",
     "status": "completed"
    },
    "tags": []
   },
   "source": [
    "# 2. 데이터 불러오기"
   ]
  },
  {
   "cell_type": "markdown",
   "id": "3dadd2e1",
   "metadata": {
    "papermill": {
     "duration": 0.015507,
     "end_time": "2023-04-08T20:42:11.386521",
     "exception": false,
     "start_time": "2023-04-08T20:42:11.371014",
     "status": "completed"
    },
    "tags": []
   },
   "source": [
    "먼저 필요한 라이브러리인 `numpy`와 `pandas`를 import하고, 데이터(train.csv, test.csv) 파일을 코드와 같은 디렉토리에 다운을 받고 pd.read_csv 를 이용해서 불러오자."
   ]
  },
  {
   "cell_type": "code",
   "execution_count": 1,
   "id": "c3b9fb22",
   "metadata": {
    "execution": {
     "iopub.execute_input": "2023-04-08T20:42:11.420948Z",
     "iopub.status.busy": "2023-04-08T20:42:11.419907Z",
     "iopub.status.idle": "2023-04-08T20:42:11.454348Z",
     "shell.execute_reply": "2023-04-08T20:42:11.453338Z"
    },
    "papermill": {
     "duration": 0.055022,
     "end_time": "2023-04-08T20:42:11.457268",
     "exception": false,
     "start_time": "2023-04-08T20:42:11.402246",
     "status": "completed"
    },
    "tags": []
   },
   "outputs": [],
   "source": [
    "import pandas as pd\n",
    "import numpy as np\n",
    "\n",
    "train = pd.read_csv('/kaggle/input/titanic/train.csv')\n",
    "test = pd.read_csv('/kaggle/input/titanic/test.csv')"
   ]
  },
  {
   "cell_type": "markdown",
   "id": "07932727",
   "metadata": {
    "papermill": {
     "duration": 0.015199,
     "end_time": "2023-04-08T20:42:11.488466",
     "exception": false,
     "start_time": "2023-04-08T20:42:11.473267",
     "status": "completed"
    },
    "tags": []
   },
   "source": [
    "적재한 훈련데이터를 확인하기 위해 head() 메서드를 이용하여 앞의 5열을 살펴본다."
   ]
  },
  {
   "cell_type": "code",
   "execution_count": 2,
   "id": "4d48528d",
   "metadata": {
    "execution": {
     "iopub.execute_input": "2023-04-08T20:42:11.521630Z",
     "iopub.status.busy": "2023-04-08T20:42:11.521223Z",
     "iopub.status.idle": "2023-04-08T20:42:11.549556Z",
     "shell.execute_reply": "2023-04-08T20:42:11.548265Z"
    },
    "papermill": {
     "duration": 0.048448,
     "end_time": "2023-04-08T20:42:11.552624",
     "exception": false,
     "start_time": "2023-04-08T20:42:11.504176",
     "status": "completed"
    },
    "tags": []
   },
   "outputs": [
    {
     "data": {
      "text/html": [
       "<div>\n",
       "<style scoped>\n",
       "    .dataframe tbody tr th:only-of-type {\n",
       "        vertical-align: middle;\n",
       "    }\n",
       "\n",
       "    .dataframe tbody tr th {\n",
       "        vertical-align: top;\n",
       "    }\n",
       "\n",
       "    .dataframe thead th {\n",
       "        text-align: right;\n",
       "    }\n",
       "</style>\n",
       "<table border=\"1\" class=\"dataframe\">\n",
       "  <thead>\n",
       "    <tr style=\"text-align: right;\">\n",
       "      <th></th>\n",
       "      <th>PassengerId</th>\n",
       "      <th>Survived</th>\n",
       "      <th>Pclass</th>\n",
       "      <th>Name</th>\n",
       "      <th>Sex</th>\n",
       "      <th>Age</th>\n",
       "      <th>SibSp</th>\n",
       "      <th>Parch</th>\n",
       "      <th>Ticket</th>\n",
       "      <th>Fare</th>\n",
       "      <th>Cabin</th>\n",
       "      <th>Embarked</th>\n",
       "    </tr>\n",
       "  </thead>\n",
       "  <tbody>\n",
       "    <tr>\n",
       "      <th>0</th>\n",
       "      <td>1</td>\n",
       "      <td>0</td>\n",
       "      <td>3</td>\n",
       "      <td>Braund, Mr. Owen Harris</td>\n",
       "      <td>male</td>\n",
       "      <td>22.0</td>\n",
       "      <td>1</td>\n",
       "      <td>0</td>\n",
       "      <td>A/5 21171</td>\n",
       "      <td>7.2500</td>\n",
       "      <td>NaN</td>\n",
       "      <td>S</td>\n",
       "    </tr>\n",
       "    <tr>\n",
       "      <th>1</th>\n",
       "      <td>2</td>\n",
       "      <td>1</td>\n",
       "      <td>1</td>\n",
       "      <td>Cumings, Mrs. John Bradley (Florence Briggs Th...</td>\n",
       "      <td>female</td>\n",
       "      <td>38.0</td>\n",
       "      <td>1</td>\n",
       "      <td>0</td>\n",
       "      <td>PC 17599</td>\n",
       "      <td>71.2833</td>\n",
       "      <td>C85</td>\n",
       "      <td>C</td>\n",
       "    </tr>\n",
       "    <tr>\n",
       "      <th>2</th>\n",
       "      <td>3</td>\n",
       "      <td>1</td>\n",
       "      <td>3</td>\n",
       "      <td>Heikkinen, Miss. Laina</td>\n",
       "      <td>female</td>\n",
       "      <td>26.0</td>\n",
       "      <td>0</td>\n",
       "      <td>0</td>\n",
       "      <td>STON/O2. 3101282</td>\n",
       "      <td>7.9250</td>\n",
       "      <td>NaN</td>\n",
       "      <td>S</td>\n",
       "    </tr>\n",
       "    <tr>\n",
       "      <th>3</th>\n",
       "      <td>4</td>\n",
       "      <td>1</td>\n",
       "      <td>1</td>\n",
       "      <td>Futrelle, Mrs. Jacques Heath (Lily May Peel)</td>\n",
       "      <td>female</td>\n",
       "      <td>35.0</td>\n",
       "      <td>1</td>\n",
       "      <td>0</td>\n",
       "      <td>113803</td>\n",
       "      <td>53.1000</td>\n",
       "      <td>C123</td>\n",
       "      <td>S</td>\n",
       "    </tr>\n",
       "    <tr>\n",
       "      <th>4</th>\n",
       "      <td>5</td>\n",
       "      <td>0</td>\n",
       "      <td>3</td>\n",
       "      <td>Allen, Mr. William Henry</td>\n",
       "      <td>male</td>\n",
       "      <td>35.0</td>\n",
       "      <td>0</td>\n",
       "      <td>0</td>\n",
       "      <td>373450</td>\n",
       "      <td>8.0500</td>\n",
       "      <td>NaN</td>\n",
       "      <td>S</td>\n",
       "    </tr>\n",
       "  </tbody>\n",
       "</table>\n",
       "</div>"
      ],
      "text/plain": [
       "   PassengerId  Survived  Pclass  \\\n",
       "0            1         0       3   \n",
       "1            2         1       1   \n",
       "2            3         1       3   \n",
       "3            4         1       1   \n",
       "4            5         0       3   \n",
       "\n",
       "                                                Name     Sex   Age  SibSp  \\\n",
       "0                            Braund, Mr. Owen Harris    male  22.0      1   \n",
       "1  Cumings, Mrs. John Bradley (Florence Briggs Th...  female  38.0      1   \n",
       "2                             Heikkinen, Miss. Laina  female  26.0      0   \n",
       "3       Futrelle, Mrs. Jacques Heath (Lily May Peel)  female  35.0      1   \n",
       "4                           Allen, Mr. William Henry    male  35.0      0   \n",
       "\n",
       "   Parch            Ticket     Fare Cabin Embarked  \n",
       "0      0         A/5 21171   7.2500   NaN        S  \n",
       "1      0          PC 17599  71.2833   C85        C  \n",
       "2      0  STON/O2. 3101282   7.9250   NaN        S  \n",
       "3      0            113803  53.1000  C123        S  \n",
       "4      0            373450   8.0500   NaN        S  "
      ]
     },
     "execution_count": 2,
     "metadata": {},
     "output_type": "execute_result"
    }
   ],
   "source": [
    "train.head()"
   ]
  },
  {
   "cell_type": "markdown",
   "id": "938baf0f",
   "metadata": {
    "papermill": {
     "duration": 0.015878,
     "end_time": "2023-04-08T20:42:11.585560",
     "exception": false,
     "start_time": "2023-04-08T20:42:11.569682",
     "status": "completed"
    },
    "tags": []
   },
   "source": [
    "# 3. 데이터 분석"
   ]
  },
  {
   "cell_type": "markdown",
   "id": "f5e527c4",
   "metadata": {
    "papermill": {
     "duration": 0.01573,
     "end_time": "2023-04-08T20:42:11.617313",
     "exception": false,
     "start_time": "2023-04-08T20:42:11.601583",
     "status": "completed"
    },
    "tags": []
   },
   "source": [
    "각 특성의 의미를 간략하게 살펴보면\n",
    "\n",
    "* Survivied는 생존 여부(0은 사망, 1은 생존; train 데이터에서만 제공),\n",
    "* Pclass는 사회경제적 지위(1에 가까울 수록 높음),\n",
    "* SipSp는 배우자나 형제 자매 명 수의 총 합,\n",
    "* Parch는 부모 자식 명 수의 총 합을 나타낸다.\n",
    "\n",
    "이제 각각 특성들의 의미를 알았으니, 주어진 데이터에서 대해 간략하게 살펴보자."
   ]
  },
  {
   "cell_type": "code",
   "execution_count": 3,
   "id": "e86610ab",
   "metadata": {
    "execution": {
     "iopub.execute_input": "2023-04-08T20:42:11.651098Z",
     "iopub.status.busy": "2023-04-08T20:42:11.650046Z",
     "iopub.status.idle": "2023-04-08T20:42:11.680325Z",
     "shell.execute_reply": "2023-04-08T20:42:11.678887Z"
    },
    "papermill": {
     "duration": 0.050952,
     "end_time": "2023-04-08T20:42:11.684031",
     "exception": false,
     "start_time": "2023-04-08T20:42:11.633079",
     "status": "completed"
    },
    "tags": []
   },
   "outputs": [
    {
     "name": "stdout",
     "output_type": "stream",
     "text": [
      "train data shape:  (891, 12)\n",
      "test data shape:  (418, 11)\n",
      "----------[train infomation]----------\n",
      "<class 'pandas.core.frame.DataFrame'>\n",
      "RangeIndex: 891 entries, 0 to 890\n",
      "Data columns (total 12 columns):\n",
      " #   Column       Non-Null Count  Dtype  \n",
      "---  ------       --------------  -----  \n",
      " 0   PassengerId  891 non-null    int64  \n",
      " 1   Survived     891 non-null    int64  \n",
      " 2   Pclass       891 non-null    int64  \n",
      " 3   Name         891 non-null    object \n",
      " 4   Sex          891 non-null    object \n",
      " 5   Age          714 non-null    float64\n",
      " 6   SibSp        891 non-null    int64  \n",
      " 7   Parch        891 non-null    int64  \n",
      " 8   Ticket       891 non-null    object \n",
      " 9   Fare         891 non-null    float64\n",
      " 10  Cabin        204 non-null    object \n",
      " 11  Embarked     889 non-null    object \n",
      "dtypes: float64(2), int64(5), object(5)\n",
      "memory usage: 83.7+ KB\n",
      "None\n",
      "----------[test infomation]----------\n",
      "<class 'pandas.core.frame.DataFrame'>\n",
      "RangeIndex: 418 entries, 0 to 417\n",
      "Data columns (total 11 columns):\n",
      " #   Column       Non-Null Count  Dtype  \n",
      "---  ------       --------------  -----  \n",
      " 0   PassengerId  418 non-null    int64  \n",
      " 1   Pclass       418 non-null    int64  \n",
      " 2   Name         418 non-null    object \n",
      " 3   Sex          418 non-null    object \n",
      " 4   Age          332 non-null    float64\n",
      " 5   SibSp        418 non-null    int64  \n",
      " 6   Parch        418 non-null    int64  \n",
      " 7   Ticket       418 non-null    object \n",
      " 8   Fare         417 non-null    float64\n",
      " 9   Cabin        91 non-null     object \n",
      " 10  Embarked     418 non-null    object \n",
      "dtypes: float64(2), int64(4), object(5)\n",
      "memory usage: 36.0+ KB\n",
      "None\n"
     ]
    }
   ],
   "source": [
    "print('train data shape: ', train.shape)\n",
    "print('test data shape: ', test.shape)\n",
    "print('----------[train infomation]----------')\n",
    "print(train.info())\n",
    "print('----------[test infomation]----------')\n",
    "print(test.info())"
   ]
  },
  {
   "cell_type": "markdown",
   "id": "a29d7733",
   "metadata": {
    "papermill": {
     "duration": 0.015714,
     "end_time": "2023-04-08T20:42:11.716201",
     "exception": false,
     "start_time": "2023-04-08T20:42:11.700487",
     "status": "completed"
    },
    "tags": []
   },
   "source": [
    "범주형 특성과 수치형 특성들로 나뉨을 알 수 있다."
   ]
  },
  {
   "cell_type": "markdown",
   "id": "7c907634",
   "metadata": {
    "papermill": {
     "duration": 0.015724,
     "end_time": "2023-04-08T20:42:11.748335",
     "exception": false,
     "start_time": "2023-04-08T20:42:11.732611",
     "status": "completed"
    },
    "tags": []
   },
   "source": [
    "## 3.1. 범주형 특성에 대한 Pie chart"
   ]
  },
  {
   "cell_type": "markdown",
   "id": "67a3e0f9",
   "metadata": {
    "papermill": {
     "duration": 0.016446,
     "end_time": "2023-04-08T20:42:11.780925",
     "exception": false,
     "start_time": "2023-04-08T20:42:11.764479",
     "status": "completed"
    },
    "tags": []
   },
   "source": [
    "데이터 값의 분포를 보기 위한 `matplotlib` 와 `seaborn` 라이브러리를 불러온다."
   ]
  },
  {
   "cell_type": "code",
   "execution_count": null,
   "id": "2811a718",
   "metadata": {
    "papermill": {
     "duration": 0.016252,
     "end_time": "2023-04-08T20:42:11.813371",
     "exception": false,
     "start_time": "2023-04-08T20:42:11.797119",
     "status": "completed"
    },
    "tags": []
   },
   "outputs": [],
   "source": []
  },
  {
   "cell_type": "code",
   "execution_count": 4,
   "id": "c70a3f05",
   "metadata": {
    "execution": {
     "iopub.execute_input": "2023-04-08T20:42:11.847878Z",
     "iopub.status.busy": "2023-04-08T20:42:11.847049Z",
     "iopub.status.idle": "2023-04-08T20:42:12.968056Z",
     "shell.execute_reply": "2023-04-08T20:42:12.966811Z"
    },
    "papermill": {
     "duration": 1.141623,
     "end_time": "2023-04-08T20:42:12.971005",
     "exception": false,
     "start_time": "2023-04-08T20:42:11.829382",
     "status": "completed"
    },
    "tags": []
   },
   "outputs": [],
   "source": [
    "import matplotlib.pyplot as plt\n",
    "%matplotlib inline\n",
    "import seaborn as sns\n",
    "sns.set() # setting seaborn default for plots"
   ]
  },
  {
   "cell_type": "markdown",
   "id": "7b46a3c1",
   "metadata": {
    "papermill": {
     "duration": 0.016067,
     "end_time": "2023-04-08T20:42:13.003460",
     "exception": false,
     "start_time": "2023-04-08T20:42:12.987393",
     "status": "completed"
    },
    "tags": []
   },
   "source": [
    "먼저 다음과 같은 범주형 특성의 분포를 보기 위해서 Pie chart를 만드는 함수를 정의해보자.\n",
    "\n",
    "* Sex\n",
    "* Pclass\n",
    "* Embarked"
   ]
  },
  {
   "cell_type": "code",
   "execution_count": 5,
   "id": "c0a130f0",
   "metadata": {
    "execution": {
     "iopub.execute_input": "2023-04-08T20:42:13.038764Z",
     "iopub.status.busy": "2023-04-08T20:42:13.038364Z",
     "iopub.status.idle": "2023-04-08T20:42:13.046865Z",
     "shell.execute_reply": "2023-04-08T20:42:13.045389Z"
    },
    "papermill": {
     "duration": 0.029087,
     "end_time": "2023-04-08T20:42:13.049229",
     "exception": false,
     "start_time": "2023-04-08T20:42:13.020142",
     "status": "completed"
    },
    "tags": []
   },
   "outputs": [],
   "source": [
    "def pie_chart(feature):\n",
    "    feature_ratio = train[feature].value_counts(sort=False)\n",
    "    feature_size = feature_ratio.size\n",
    "    feature_index = feature_ratio.index\n",
    "    survived = train[train['Survived'] == 1][feature].value_counts()\n",
    "    dead = train[train['Survived'] == 0][feature].value_counts()\n",
    " \n",
    "\n",
    "    plt.plot(aspect='auto')\n",
    "    plt.pie(feature_ratio, labels=feature_index, autopct='%1.1f%%')\n",
    "    plt.title(feature + '\\'s ratio in total')\n",
    "    plt.show()\n",
    "\n",
    "    for i, index in enumerate(feature_index):\n",
    "        plt.subplot(1, feature_size + 1, i + 1, aspect='equal')\n",
    "        plt.pie([survived[index], dead[index]], labels=['Survivied', 'Dead'], autopct='%1.1f%%')\n",
    "        plt.title(str(index) + '\\'s ratio')\n",
    "\n",
    "    plt.show()"
   ]
  },
  {
   "cell_type": "markdown",
   "id": "211e481f",
   "metadata": {
    "papermill": {
     "duration": 0.016153,
     "end_time": "2023-04-08T20:42:13.081777",
     "exception": false,
     "start_time": "2023-04-08T20:42:13.065624",
     "status": "completed"
    },
    "tags": []
   },
   "source": [
    "먼저 `Sex`에 대해서 Pie chart를 그려보면,"
   ]
  },
  {
   "cell_type": "code",
   "execution_count": 6,
   "id": "5085e872",
   "metadata": {
    "execution": {
     "iopub.execute_input": "2023-04-08T20:42:13.116094Z",
     "iopub.status.busy": "2023-04-08T20:42:13.115640Z",
     "iopub.status.idle": "2023-04-08T20:42:13.460234Z",
     "shell.execute_reply": "2023-04-08T20:42:13.458221Z"
    },
    "papermill": {
     "duration": 0.367589,
     "end_time": "2023-04-08T20:42:13.465653",
     "exception": false,
     "start_time": "2023-04-08T20:42:13.098064",
     "status": "completed"
    },
    "tags": []
   },
   "outputs": [
    {
     "data": {
      "image/png": "[encoded data removed]",
      "text/plain": [
       "<Figure size 640x480 with 1 Axes>"
      ]
     },
     "metadata": {},
     "output_type": "display_data"
    },
    {
     "data": {
      "image/png": "[encoded data removed]",
      "text/plain": [
       "<Figure size 640x480 with 2 Axes>"
      ]
     },
     "metadata": {},
     "output_type": "display_data"
    }
   ],
   "source": [
    "pie_chart('Sex')"
   ]
  },
  {
   "cell_type": "markdown",
   "id": "677ef99c",
   "metadata": {
    "papermill": {
     "duration": 0.021714,
     "end_time": "2023-04-08T20:42:13.533194",
     "exception": false,
     "start_time": "2023-04-08T20:42:13.511480",
     "status": "completed"
    },
    "tags": []
   },
   "source": [
    "위와 같이 남성이 여성보다 배에 많이 탔으며, 남성보다 여성의 생존 비율이 높다는 것을 알 수가 있다.\n",
    "이제 사회경제적 지위인 `Pclass`에 대해서도 그려보자."
   ]
  },
  {
   "cell_type": "code",
   "execution_count": 7,
   "id": "497a9943",
   "metadata": {
    "execution": {
     "iopub.execute_input": "2023-04-08T20:42:13.569673Z",
     "iopub.status.busy": "2023-04-08T20:42:13.568885Z",
     "iopub.status.idle": "2023-04-08T20:42:13.954361Z",
     "shell.execute_reply": "2023-04-08T20:42:13.952362Z"
    },
    "papermill": {
     "duration": 0.408621,
     "end_time": "2023-04-08T20:42:13.958875",
     "exception": false,
     "start_time": "2023-04-08T20:42:13.550254",
     "status": "completed"
    },
    "tags": []
   },
   "outputs": [
    {
     "data": {
      "image/png": "[encoded data removed]",
      "text/plain": [
       "<Figure size 640x480 with 1 Axes>"
      ]
     },
     "metadata": {},
     "output_type": "display_data"
    },
    {
     "data": {
      "image/png": "[encoded data removed]",
      "text/plain": [
       "<Figure size 640x480 with 3 Axes>"
      ]
     },
     "metadata": {},
     "output_type": "display_data"
    }
   ],
   "source": [
    "pie_chart('Pclass')"
   ]
  },
  {
   "cell_type": "markdown",
   "id": "ae886e22",
   "metadata": {
    "papermill": {
     "duration": 0.018134,
     "end_time": "2023-04-08T20:42:14.021146",
     "exception": false,
     "start_time": "2023-04-08T20:42:14.003012",
     "status": "completed"
    },
    "tags": []
   },
   "source": [
    "위와 같이 Pclass가 3인 사람들의 수가 가장 많았으면 Pclass가 높을 수록 생존 비율이 높다는 것을 알 수 있다.\n",
    "마지막으로 어느 곳에서 배를 탔는지를 나타내는 `Embarked`에 대해서 살펴보자."
   ]
  },
  {
   "cell_type": "code",
   "execution_count": 8,
   "id": "23c14188",
   "metadata": {
    "execution": {
     "iopub.execute_input": "2023-04-08T20:42:14.060126Z",
     "iopub.status.busy": "2023-04-08T20:42:14.059418Z",
     "iopub.status.idle": "2023-04-08T20:42:14.428312Z",
     "shell.execute_reply": "2023-04-08T20:42:14.426504Z"
    },
    "papermill": {
     "duration": 0.393481,
     "end_time": "2023-04-08T20:42:14.432911",
     "exception": false,
     "start_time": "2023-04-08T20:42:14.039430",
     "status": "completed"
    },
    "tags": []
   },
   "outputs": [
    {
     "data": {
      "image/png": "[encoded data removed]",
      "text/plain": [
       "<Figure size 640x480 with 1 Axes>"
      ]
     },
     "metadata": {},
     "output_type": "display_data"
    },
    {
     "data": {
      "image/png": "[encoded data removed]",
      "text/plain": [
       "<Figure size 640x480 with 3 Axes>"
      ]
     },
     "metadata": {},
     "output_type": "display_data"
    }
   ],
   "source": [
    "pie_chart('Embarked')"
   ]
  },
  {
   "cell_type": "markdown",
   "id": "1837f2bf",
   "metadata": {
    "papermill": {
     "duration": 0.018878,
     "end_time": "2023-04-08T20:42:14.497499",
     "exception": false,
     "start_time": "2023-04-08T20:42:14.478621",
     "status": "completed"
    },
    "tags": []
   },
   "source": [
    "위와 같이 Southampton에서 선착한 사람이 가장 많았으며, Cherbourg에서 탄 사람 중에 생존한 사람의 비율이 높았고, 나머지 두 선착장에서 탄 사람들은 생존한 사람보다 그렇지 못한 사람이 조금 더 많았다."
   ]
  },
  {
   "cell_type": "markdown",
   "id": "aaa2768e",
   "metadata": {
    "papermill": {
     "duration": 0.018533,
     "end_time": "2023-04-08T20:42:14.535026",
     "exception": false,
     "start_time": "2023-04-08T20:42:14.516493",
     "status": "completed"
    },
    "tags": []
   },
   "source": [
    "## 3.2. 범주형 특성에 대한 Bar chart"
   ]
  },
  {
   "cell_type": "markdown",
   "id": "9d66c2b6",
   "metadata": {
    "papermill": {
     "duration": 0.018859,
     "end_time": "2023-04-08T20:42:14.572915",
     "exception": false,
     "start_time": "2023-04-08T20:42:14.554056",
     "status": "completed"
    },
    "tags": []
   },
   "source": [
    "이번에는 아래의 특성들에 대허서 Bar chart를 정의해서 데이터를 시각화 해보자."
   ]
  },
  {
   "cell_type": "code",
   "execution_count": 9,
   "id": "182b4877",
   "metadata": {
    "execution": {
     "iopub.execute_input": "2023-04-08T20:42:14.613732Z",
     "iopub.status.busy": "2023-04-08T20:42:14.613260Z",
     "iopub.status.idle": "2023-04-08T20:42:14.620007Z",
     "shell.execute_reply": "2023-04-08T20:42:14.618698Z"
    },
    "papermill": {
     "duration": 0.029911,
     "end_time": "2023-04-08T20:42:14.622528",
     "exception": false,
     "start_time": "2023-04-08T20:42:14.592617",
     "status": "completed"
    },
    "tags": []
   },
   "outputs": [],
   "source": [
    "def bar_chart(feature):\n",
    "     survived = train[train['Survived']==1][feature].value_counts()\n",
    "     dead = train[train['Survived']==0][feature].value_counts()\n",
    "     df = pd.DataFrame([survived,dead])\n",
    "     df.index = ['Survived','Dead']\n",
    "     df.plot(kind='bar',stacked=True, figsize=(10,5))"
   ]
  },
  {
   "cell_type": "markdown",
   "id": "71560cd3",
   "metadata": {
    "papermill": {
     "duration": 0.018518,
     "end_time": "2023-04-08T20:42:14.660152",
     "exception": false,
     "start_time": "2023-04-08T20:42:14.641634",
     "status": "completed"
    },
    "tags": []
   },
   "source": [
    "먼저`SibSp`에 대해서 Bar chart를 그려보자."
   ]
  },
  {
   "cell_type": "code",
   "execution_count": 10,
   "id": "4d2d7dce",
   "metadata": {
    "execution": {
     "iopub.execute_input": "2023-04-08T20:42:14.702188Z",
     "iopub.status.busy": "2023-04-08T20:42:14.700984Z",
     "iopub.status.idle": "2023-04-08T20:42:15.069633Z",
     "shell.execute_reply": "2023-04-08T20:42:15.068396Z"
    },
    "papermill": {
     "duration": 0.392763,
     "end_time": "2023-04-08T20:42:15.072387",
     "exception": false,
     "start_time": "2023-04-08T20:42:14.679624",
     "status": "completed"
    },
    "tags": []
   },
   "outputs": [
    {
     "data": {
      "image/png": "[encoded data removed]",
      "text/plain": [
       "<Figure size 1000x500 with 1 Axes>"
      ]
     },
     "metadata": {},
     "output_type": "display_data"
    }
   ],
   "source": [
    "bar_chart('SibSp')"
   ]
  },
  {
   "cell_type": "markdown",
   "id": "3f637f10",
   "metadata": {
    "papermill": {
     "duration": 0.020124,
     "end_time": "2023-04-08T20:42:15.112492",
     "exception": false,
     "start_time": "2023-04-08T20:42:15.092368",
     "status": "completed"
    },
    "tags": []
   },
   "source": [
    "위와 같이 2명 이상의 형제나 배우자와 함께 탔을 경우 생존한 사람의 비율이 컸다는 것을 볼 수 있고, 그렇지 않을 경우에는 생존한 사람의 비율이 적었다는 것을 볼 수 있다."
   ]
  },
  {
   "cell_type": "code",
   "execution_count": 11,
   "id": "d4b917b2",
   "metadata": {
    "execution": {
     "iopub.execute_input": "2023-04-08T20:42:15.156570Z",
     "iopub.status.busy": "2023-04-08T20:42:15.155281Z",
     "iopub.status.idle": "2023-04-08T20:42:15.465533Z",
     "shell.execute_reply": "2023-04-08T20:42:15.464277Z"
    },
    "papermill": {
     "duration": 0.335037,
     "end_time": "2023-04-08T20:42:15.468174",
     "exception": false,
     "start_time": "2023-04-08T20:42:15.133137",
     "status": "completed"
    },
    "tags": []
   },
   "outputs": [
    {
     "data": {
      "image/png": "[encoded data removed]",
      "text/plain": [
       "<Figure size 1000x500 with 1 Axes>"
      ]
     },
     "metadata": {},
     "output_type": "display_data"
    }
   ],
   "source": [
    "bar_chart('Parch')"
   ]
  },
  {
   "cell_type": "markdown",
   "id": "aa7052d2",
   "metadata": {
    "papermill": {
     "duration": 0.019351,
     "end_time": "2023-04-08T20:42:15.507272",
     "exception": false,
     "start_time": "2023-04-08T20:42:15.487921",
     "status": "completed"
    },
    "tags": []
   },
   "source": [
    "`Parch`특성은 `SibSp`와 비슷하게 2명 이상의 부모나 자식과 함께 배에 탔을 때는 조금 더 생존했지만, 그렇지 않을 경우에는 생존한 사람의 비율이 적었다.\n",
    "\n",
    "지금까지 살펴본 데이터 특성들을 간략하게 종합해보면,\n",
    "성별이 여성일 수록(영화 타이타닉에서 나온 것 처럼 여성과 아이부터 먼저 살렸기 때문이 아닐까 싶고),\n",
    "`Pclass`가 높을 수록(맨 위의 사진을 보면 타이타닉 호는 배의 후미부터 잠기기 시작되었다는 것을 알 수 있는데, 티켓의 등급이 높아질 수록 숙소가 배의 앞쪽과 위쪽으로 가는 경향이 있어 그 영향이 아닐까 싶고),\n",
    "`Cherbourg` 선착장에서 배를 탔다면,\n",
    "형제, 자매, 배우자, 부모, 자녀와 함께 배에 탔다면,\n",
    "생존 확률이 더 높았다는 것을 볼 수 있다.\n",
    "\n",
    "하지만 하나의 특성과 생존 비율 만을 생각해서 예측하기에는 무리가 있다.\n",
    "\n",
    "예를 들어 높은 금액의 티켓(살 확률이 높은 숙소를 가진)을 산 부유한 사람이 가족들이랑 왔을 경우가 많다고 가정해본다면, 가족들과 함께 왔다고 해서 살 가능성이 높다고 할 수는 없으므로 단일 특성을 가지고 생존 확률을 예측하기보단 여러가지 특성을 종합해서 예측을 하는 것이 더 좋을 것이다."
   ]
  },
  {
   "cell_type": "markdown",
   "id": "be10d8e0",
   "metadata": {
    "papermill": {
     "duration": 0.01947,
     "end_time": "2023-04-08T20:42:15.546573",
     "exception": false,
     "start_time": "2023-04-08T20:42:15.527103",
     "status": "completed"
    },
    "tags": []
   },
   "source": [
    "# 4. 데이터 전처리 및 특성 추출"
   ]
  },
  {
   "cell_type": "markdown",
   "id": "2a54ae9a",
   "metadata": {
    "papermill": {
     "duration": 0.019303,
     "end_time": "2023-04-08T20:42:15.585384",
     "exception": false,
     "start_time": "2023-04-08T20:42:15.566081",
     "status": "completed"
    },
    "tags": []
   },
   "source": [
    "이제는 앞으로 예측할 모델에게 학습을 시킬 특성을 골라서 학습하기에 알맞게 전처리 과정을 진행 해볼 것이다.\n",
    "\n",
    "의미를 찾지 못한 `Ticket`과 `Cabin` 특성을 제외한 나머지 특성을 가지고 전처리를 진행한다.\n",
    "\n",
    "또한 데이터 전처리를 하는 과정에서는 훈련셋과 테스트셋을 같은 방법으로 한 번에 처리를 해야하므로 먼저 두 개의 데이터를 합쳐본다."
   ]
  },
  {
   "cell_type": "code",
   "execution_count": 12,
   "id": "a365ba87",
   "metadata": {
    "execution": {
     "iopub.execute_input": "2023-04-08T20:42:15.628666Z",
     "iopub.status.busy": "2023-04-08T20:42:15.627750Z",
     "iopub.status.idle": "2023-04-08T20:42:15.633282Z",
     "shell.execute_reply": "2023-04-08T20:42:15.632390Z"
    },
    "papermill": {
     "duration": 0.030677,
     "end_time": "2023-04-08T20:42:15.635692",
     "exception": false,
     "start_time": "2023-04-08T20:42:15.605015",
     "status": "completed"
    },
    "tags": []
   },
   "outputs": [],
   "source": [
    "train_and_test = [train, test]"
   ]
  },
  {
   "cell_type": "markdown",
   "id": "ab8f2216",
   "metadata": {
    "papermill": {
     "duration": 0.019313,
     "end_time": "2023-04-08T20:42:15.675214",
     "exception": false,
     "start_time": "2023-04-08T20:42:15.655901",
     "status": "completed"
    },
    "tags": []
   },
   "source": [
    "## 4.1. 이름 특성"
   ]
  },
  {
   "cell_type": "markdown",
   "id": "bde2823d",
   "metadata": {
    "papermill": {
     "duration": 0.019335,
     "end_time": "2023-04-08T20:42:15.714359",
     "exception": false,
     "start_time": "2023-04-08T20:42:15.695024",
     "status": "completed"
    },
    "tags": []
   },
   "source": [
    "이름이 중요한 것 같이 않지만 `Name` 정보에는 Title이 있는데, 이를 통해서 승객의 성별이나 나이대, 결혼 유무를 알 수 있다. 성별과 나이는 이미 데이터에 들어 있지만 일단 Title을 가져오도록 한다.\n",
    "\n",
    "데이터에 `Title`이라는 새로운 열을 만들어 Title 정보를 넣자."
   ]
  },
  {
   "cell_type": "code",
   "execution_count": 13,
   "id": "5cc66af7",
   "metadata": {
    "execution": {
     "iopub.execute_input": "2023-04-08T20:42:15.756307Z",
     "iopub.status.busy": "2023-04-08T20:42:15.755450Z",
     "iopub.status.idle": "2023-04-08T20:42:15.778956Z",
     "shell.execute_reply": "2023-04-08T20:42:15.777594Z"
    },
    "papermill": {
     "duration": 0.04738,
     "end_time": "2023-04-08T20:42:15.781514",
     "exception": false,
     "start_time": "2023-04-08T20:42:15.734134",
     "status": "completed"
    },
    "tags": []
   },
   "outputs": [
    {
     "data": {
      "text/html": [
       "<div>\n",
       "<style scoped>\n",
       "    .dataframe tbody tr th:only-of-type {\n",
       "        vertical-align: middle;\n",
       "    }\n",
       "\n",
       "    .dataframe tbody tr th {\n",
       "        vertical-align: top;\n",
       "    }\n",
       "\n",
       "    .dataframe thead th {\n",
       "        text-align: right;\n",
       "    }\n",
       "</style>\n",
       "<table border=\"1\" class=\"dataframe\">\n",
       "  <thead>\n",
       "    <tr style=\"text-align: right;\">\n",
       "      <th></th>\n",
       "      <th>PassengerId</th>\n",
       "      <th>Survived</th>\n",
       "      <th>Pclass</th>\n",
       "      <th>Name</th>\n",
       "      <th>Sex</th>\n",
       "      <th>Age</th>\n",
       "      <th>SibSp</th>\n",
       "      <th>Parch</th>\n",
       "      <th>Ticket</th>\n",
       "      <th>Fare</th>\n",
       "      <th>Cabin</th>\n",
       "      <th>Embarked</th>\n",
       "      <th>Title</th>\n",
       "    </tr>\n",
       "  </thead>\n",
       "  <tbody>\n",
       "    <tr>\n",
       "      <th>0</th>\n",
       "      <td>1</td>\n",
       "      <td>0</td>\n",
       "      <td>3</td>\n",
       "      <td>Braund, Mr. Owen Harris</td>\n",
       "      <td>male</td>\n",
       "      <td>22.0</td>\n",
       "      <td>1</td>\n",
       "      <td>0</td>\n",
       "      <td>A/5 21171</td>\n",
       "      <td>7.2500</td>\n",
       "      <td>NaN</td>\n",
       "      <td>S</td>\n",
       "      <td>Mr</td>\n",
       "    </tr>\n",
       "    <tr>\n",
       "      <th>1</th>\n",
       "      <td>2</td>\n",
       "      <td>1</td>\n",
       "      <td>1</td>\n",
       "      <td>Cumings, Mrs. John Bradley (Florence Briggs Th...</td>\n",
       "      <td>female</td>\n",
       "      <td>38.0</td>\n",
       "      <td>1</td>\n",
       "      <td>0</td>\n",
       "      <td>PC 17599</td>\n",
       "      <td>71.2833</td>\n",
       "      <td>C85</td>\n",
       "      <td>C</td>\n",
       "      <td>Mrs</td>\n",
       "    </tr>\n",
       "    <tr>\n",
       "      <th>2</th>\n",
       "      <td>3</td>\n",
       "      <td>1</td>\n",
       "      <td>3</td>\n",
       "      <td>Heikkinen, Miss. Laina</td>\n",
       "      <td>female</td>\n",
       "      <td>26.0</td>\n",
       "      <td>0</td>\n",
       "      <td>0</td>\n",
       "      <td>STON/O2. 3101282</td>\n",
       "      <td>7.9250</td>\n",
       "      <td>NaN</td>\n",
       "      <td>S</td>\n",
       "      <td>Miss</td>\n",
       "    </tr>\n",
       "    <tr>\n",
       "      <th>3</th>\n",
       "      <td>4</td>\n",
       "      <td>1</td>\n",
       "      <td>1</td>\n",
       "      <td>Futrelle, Mrs. Jacques Heath (Lily May Peel)</td>\n",
       "      <td>female</td>\n",
       "      <td>35.0</td>\n",
       "      <td>1</td>\n",
       "      <td>0</td>\n",
       "      <td>113803</td>\n",
       "      <td>53.1000</td>\n",
       "      <td>C123</td>\n",
       "      <td>S</td>\n",
       "      <td>Mrs</td>\n",
       "    </tr>\n",
       "    <tr>\n",
       "      <th>4</th>\n",
       "      <td>5</td>\n",
       "      <td>0</td>\n",
       "      <td>3</td>\n",
       "      <td>Allen, Mr. William Henry</td>\n",
       "      <td>male</td>\n",
       "      <td>35.0</td>\n",
       "      <td>0</td>\n",
       "      <td>0</td>\n",
       "      <td>373450</td>\n",
       "      <td>8.0500</td>\n",
       "      <td>NaN</td>\n",
       "      <td>S</td>\n",
       "      <td>Mr</td>\n",
       "    </tr>\n",
       "  </tbody>\n",
       "</table>\n",
       "</div>"
      ],
      "text/plain": [
       "   PassengerId  Survived  Pclass  \\\n",
       "0            1         0       3   \n",
       "1            2         1       1   \n",
       "2            3         1       3   \n",
       "3            4         1       1   \n",
       "4            5         0       3   \n",
       "\n",
       "                                                Name     Sex   Age  SibSp  \\\n",
       "0                            Braund, Mr. Owen Harris    male  22.0      1   \n",
       "1  Cumings, Mrs. John Bradley (Florence Briggs Th...  female  38.0      1   \n",
       "2                             Heikkinen, Miss. Laina  female  26.0      0   \n",
       "3       Futrelle, Mrs. Jacques Heath (Lily May Peel)  female  35.0      1   \n",
       "4                           Allen, Mr. William Henry    male  35.0      0   \n",
       "\n",
       "   Parch            Ticket     Fare Cabin Embarked Title  \n",
       "0      0         A/5 21171   7.2500   NaN        S    Mr  \n",
       "1      0          PC 17599  71.2833   C85        C   Mrs  \n",
       "2      0  STON/O2. 3101282   7.9250   NaN        S  Miss  \n",
       "3      0            113803  53.1000  C123        S   Mrs  \n",
       "4      0            373450   8.0500   NaN        S    Mr  "
      ]
     },
     "execution_count": 13,
     "metadata": {},
     "output_type": "execute_result"
    }
   ],
   "source": [
    "for dataset in train_and_test:\n",
    " \tdataset['Title'] = dataset.Name.str.extract(' ([A-Za-z]+)\\.')\n",
    "\n",
    "train.head(5)"
   ]
  },
  {
   "cell_type": "markdown",
   "id": "fdf75681",
   "metadata": {
    "papermill": {
     "duration": 0.020386,
     "end_time": "2023-04-08T20:42:15.822397",
     "exception": false,
     "start_time": "2023-04-08T20:42:15.802011",
     "status": "completed"
    },
    "tags": []
   },
   "source": [
    "위에서 쓰인 ' ([A-Za-z]+)\\.'는 정규표현식인데, 공백으로 시작하고, `.`로 끝나는 문자열을 추출할 때 저렇게 표현한다.\n",
    "\n",
    "한편 추출한 Title을 가진 사람이 몇 명이나 존재하는지 성별과 함께 표현을 해보자."
   ]
  },
  {
   "cell_type": "code",
   "execution_count": 14,
   "id": "ec55947b",
   "metadata": {
    "execution": {
     "iopub.execute_input": "2023-04-08T20:42:15.866375Z",
     "iopub.status.busy": "2023-04-08T20:42:15.865453Z",
     "iopub.status.idle": "2023-04-08T20:42:15.893409Z",
     "shell.execute_reply": "2023-04-08T20:42:15.891730Z"
    },
    "papermill": {
     "duration": 0.053206,
     "end_time": "2023-04-08T20:42:15.896209",
     "exception": false,
     "start_time": "2023-04-08T20:42:15.843003",
     "status": "completed"
    },
    "tags": []
   },
   "outputs": [
    {
     "data": {
      "text/html": [
       "<div>\n",
       "<style scoped>\n",
       "    .dataframe tbody tr th:only-of-type {\n",
       "        vertical-align: middle;\n",
       "    }\n",
       "\n",
       "    .dataframe tbody tr th {\n",
       "        vertical-align: top;\n",
       "    }\n",
       "\n",
       "    .dataframe thead th {\n",
       "        text-align: right;\n",
       "    }\n",
       "</style>\n",
       "<table border=\"1\" class=\"dataframe\">\n",
       "  <thead>\n",
       "    <tr style=\"text-align: right;\">\n",
       "      <th>Sex</th>\n",
       "      <th>female</th>\n",
       "      <th>male</th>\n",
       "    </tr>\n",
       "    <tr>\n",
       "      <th>Title</th>\n",
       "      <th></th>\n",
       "      <th></th>\n",
       "    </tr>\n",
       "  </thead>\n",
       "  <tbody>\n",
       "    <tr>\n",
       "      <th>Capt</th>\n",
       "      <td>0</td>\n",
       "      <td>1</td>\n",
       "    </tr>\n",
       "    <tr>\n",
       "      <th>Col</th>\n",
       "      <td>0</td>\n",
       "      <td>2</td>\n",
       "    </tr>\n",
       "    <tr>\n",
       "      <th>Countess</th>\n",
       "      <td>1</td>\n",
       "      <td>0</td>\n",
       "    </tr>\n",
       "    <tr>\n",
       "      <th>Don</th>\n",
       "      <td>0</td>\n",
       "      <td>1</td>\n",
       "    </tr>\n",
       "    <tr>\n",
       "      <th>Dr</th>\n",
       "      <td>1</td>\n",
       "      <td>6</td>\n",
       "    </tr>\n",
       "    <tr>\n",
       "      <th>Jonkheer</th>\n",
       "      <td>0</td>\n",
       "      <td>1</td>\n",
       "    </tr>\n",
       "    <tr>\n",
       "      <th>Lady</th>\n",
       "      <td>1</td>\n",
       "      <td>0</td>\n",
       "    </tr>\n",
       "    <tr>\n",
       "      <th>Major</th>\n",
       "      <td>0</td>\n",
       "      <td>2</td>\n",
       "    </tr>\n",
       "    <tr>\n",
       "      <th>Master</th>\n",
       "      <td>0</td>\n",
       "      <td>40</td>\n",
       "    </tr>\n",
       "    <tr>\n",
       "      <th>Miss</th>\n",
       "      <td>182</td>\n",
       "      <td>0</td>\n",
       "    </tr>\n",
       "    <tr>\n",
       "      <th>Mlle</th>\n",
       "      <td>2</td>\n",
       "      <td>0</td>\n",
       "    </tr>\n",
       "    <tr>\n",
       "      <th>Mme</th>\n",
       "      <td>1</td>\n",
       "      <td>0</td>\n",
       "    </tr>\n",
       "    <tr>\n",
       "      <th>Mr</th>\n",
       "      <td>0</td>\n",
       "      <td>517</td>\n",
       "    </tr>\n",
       "    <tr>\n",
       "      <th>Mrs</th>\n",
       "      <td>125</td>\n",
       "      <td>0</td>\n",
       "    </tr>\n",
       "    <tr>\n",
       "      <th>Ms</th>\n",
       "      <td>1</td>\n",
       "      <td>0</td>\n",
       "    </tr>\n",
       "    <tr>\n",
       "      <th>Rev</th>\n",
       "      <td>0</td>\n",
       "      <td>6</td>\n",
       "    </tr>\n",
       "    <tr>\n",
       "      <th>Sir</th>\n",
       "      <td>0</td>\n",
       "      <td>1</td>\n",
       "    </tr>\n",
       "  </tbody>\n",
       "</table>\n",
       "</div>"
      ],
      "text/plain": [
       "Sex       female  male\n",
       "Title                 \n",
       "Capt           0     1\n",
       "Col            0     2\n",
       "Countess       1     0\n",
       "Don            0     1\n",
       "Dr             1     6\n",
       "Jonkheer       0     1\n",
       "Lady           1     0\n",
       "Major          0     2\n",
       "Master         0    40\n",
       "Miss         182     0\n",
       "Mlle           2     0\n",
       "Mme            1     0\n",
       "Mr             0   517\n",
       "Mrs          125     0\n",
       "Ms             1     0\n",
       "Rev            0     6\n",
       "Sir            0     1"
      ]
     },
     "execution_count": 14,
     "metadata": {},
     "output_type": "execute_result"
    }
   ],
   "source": [
    "pd.crosstab(train['Title'], train['Sex'])"
   ]
  },
  {
   "cell_type": "markdown",
   "id": "4153a04e",
   "metadata": {
    "papermill": {
     "duration": 0.021095,
     "end_time": "2023-04-08T20:42:15.938534",
     "exception": false,
     "start_time": "2023-04-08T20:42:15.917439",
     "status": "completed"
    },
    "tags": []
   },
   "source": [
    "여기서 흔하지 않은 Title은 Other로 대체하고 중복되는 표현을 통일하자."
   ]
  },
  {
   "cell_type": "code",
   "execution_count": 15,
   "id": "f9297fd4",
   "metadata": {
    "execution": {
     "iopub.execute_input": "2023-04-08T20:42:15.981654Z",
     "iopub.status.busy": "2023-04-08T20:42:15.980937Z",
     "iopub.status.idle": "2023-04-08T20:42:16.004504Z",
     "shell.execute_reply": "2023-04-08T20:42:16.003331Z"
    },
    "papermill": {
     "duration": 0.047804,
     "end_time": "2023-04-08T20:42:16.007015",
     "exception": false,
     "start_time": "2023-04-08T20:42:15.959211",
     "status": "completed"
    },
    "tags": []
   },
   "outputs": [
    {
     "data": {
      "text/html": [
       "<div>\n",
       "<style scoped>\n",
       "    .dataframe tbody tr th:only-of-type {\n",
       "        vertical-align: middle;\n",
       "    }\n",
       "\n",
       "    .dataframe tbody tr th {\n",
       "        vertical-align: top;\n",
       "    }\n",
       "\n",
       "    .dataframe thead th {\n",
       "        text-align: right;\n",
       "    }\n",
       "</style>\n",
       "<table border=\"1\" class=\"dataframe\">\n",
       "  <thead>\n",
       "    <tr style=\"text-align: right;\">\n",
       "      <th></th>\n",
       "      <th>Title</th>\n",
       "      <th>Survived</th>\n",
       "    </tr>\n",
       "  </thead>\n",
       "  <tbody>\n",
       "    <tr>\n",
       "      <th>0</th>\n",
       "      <td>Master</td>\n",
       "      <td>0.575000</td>\n",
       "    </tr>\n",
       "    <tr>\n",
       "      <th>1</th>\n",
       "      <td>Miss</td>\n",
       "      <td>0.702703</td>\n",
       "    </tr>\n",
       "    <tr>\n",
       "      <th>2</th>\n",
       "      <td>Mr</td>\n",
       "      <td>0.156673</td>\n",
       "    </tr>\n",
       "    <tr>\n",
       "      <th>3</th>\n",
       "      <td>Mrs</td>\n",
       "      <td>0.793651</td>\n",
       "    </tr>\n",
       "    <tr>\n",
       "      <th>4</th>\n",
       "      <td>Other</td>\n",
       "      <td>0.347826</td>\n",
       "    </tr>\n",
       "  </tbody>\n",
       "</table>\n",
       "</div>"
      ],
      "text/plain": [
       "    Title  Survived\n",
       "0  Master  0.575000\n",
       "1    Miss  0.702703\n",
       "2      Mr  0.156673\n",
       "3     Mrs  0.793651\n",
       "4   Other  0.347826"
      ]
     },
     "execution_count": 15,
     "metadata": {},
     "output_type": "execute_result"
    }
   ],
   "source": [
    "for dataset in train_and_test:\n",
    "    dataset['Title'] = dataset['Title'].replace(['Capt', 'Col', 'Countess', 'Don','Dona', 'Dr', 'Jonkheer',\n",
    "                                                 'Lady','Major', 'Rev', 'Sir'], 'Other')\n",
    "    dataset['Title'] = dataset['Title'].replace('Mlle', 'Miss')\n",
    "    dataset['Title'] = dataset['Title'].replace('Mme', 'Mrs')\n",
    "    dataset['Title'] = dataset['Title'].replace('Ms', 'Miss')\n",
    "\n",
    "train[['Title', 'Survived']].groupby(['Title'], as_index=False).mean()"
   ]
  },
  {
   "cell_type": "markdown",
   "id": "be2a9c03",
   "metadata": {
    "papermill": {
     "duration": 0.020023,
     "end_time": "2023-04-08T20:42:16.047567",
     "exception": false,
     "start_time": "2023-04-08T20:42:16.027544",
     "status": "completed"
    },
    "tags": []
   },
   "source": [
    "그리고 추출한 Title 데이터를 학습하기 알맞게 String Data로 변형해주면 된다."
   ]
  },
  {
   "cell_type": "code",
   "execution_count": 16,
   "id": "f9d519f7",
   "metadata": {
    "execution": {
     "iopub.execute_input": "2023-04-08T20:42:16.090437Z",
     "iopub.status.busy": "2023-04-08T20:42:16.089581Z",
     "iopub.status.idle": "2023-04-08T20:42:16.095950Z",
     "shell.execute_reply": "2023-04-08T20:42:16.094745Z"
    },
    "papermill": {
     "duration": 0.03068,
     "end_time": "2023-04-08T20:42:16.098544",
     "exception": false,
     "start_time": "2023-04-08T20:42:16.067864",
     "status": "completed"
    },
    "tags": []
   },
   "outputs": [],
   "source": [
    "for dataset in train_and_test:\n",
    "    dataset['Title'] = dataset['Title'].astype(str)"
   ]
  },
  {
   "cell_type": "markdown",
   "id": "0a66e74e",
   "metadata": {
    "papermill": {
     "duration": 0.021332,
     "end_time": "2023-04-08T20:42:16.140728",
     "exception": false,
     "start_time": "2023-04-08T20:42:16.119396",
     "status": "completed"
    },
    "tags": []
   },
   "source": [
    "## 4.2. 성 특성"
   ]
  },
  {
   "cell_type": "markdown",
   "id": "9c7d30d9",
   "metadata": {
    "papermill": {
     "duration": 0.020462,
     "end_time": "2023-04-08T20:42:16.183410",
     "exception": false,
     "start_time": "2023-04-08T20:42:16.162948",
     "status": "completed"
    },
    "tags": []
   },
   "source": [
    "이번에는 승객의 성별을 나타내는 `Sex` Feature를 처리할 것인데 이미 male과 female로 나뉘어져 있으므로 String Data로만 변형해주면 된다."
   ]
  },
  {
   "cell_type": "code",
   "execution_count": 17,
   "id": "3855d342",
   "metadata": {
    "execution": {
     "iopub.execute_input": "2023-04-08T20:42:16.226229Z",
     "iopub.status.busy": "2023-04-08T20:42:16.225826Z",
     "iopub.status.idle": "2023-04-08T20:42:16.232272Z",
     "shell.execute_reply": "2023-04-08T20:42:16.231063Z"
    },
    "papermill": {
     "duration": 0.030998,
     "end_time": "2023-04-08T20:42:16.234690",
     "exception": false,
     "start_time": "2023-04-08T20:42:16.203692",
     "status": "completed"
    },
    "tags": []
   },
   "outputs": [],
   "source": [
    "for dataset in train_and_test:\n",
    "    dataset['Sex'] = dataset['Sex'].astype(str)"
   ]
  },
  {
   "cell_type": "markdown",
   "id": "1fe98228",
   "metadata": {
    "papermill": {
     "duration": 0.019972,
     "end_time": "2023-04-08T20:42:16.275106",
     "exception": false,
     "start_time": "2023-04-08T20:42:16.255134",
     "status": "completed"
    },
    "tags": []
   },
   "source": [
    "## 4.3. 탑승 항구 특성"
   ]
  },
  {
   "cell_type": "markdown",
   "id": "f7079100",
   "metadata": {
    "papermill": {
     "duration": 0.024522,
     "end_time": "2023-04-08T20:42:16.320108",
     "exception": false,
     "start_time": "2023-04-08T20:42:16.295586",
     "status": "completed"
    },
    "tags": []
   },
   "source": [
    "이제 배를 탑승한 선착장을 나타내는 `Embarked` Feature를 처리해보자.\n",
    "\n",
    "일단 위에서 간략하게 살펴본 데이터 정보에 따르면 train 데이터에서 `Embarked` feature에는 NaN 값이 존재하며, 다음을 보면 잘 알 수 있다."
   ]
  },
  {
   "cell_type": "code",
   "execution_count": 18,
   "id": "30446592",
   "metadata": {
    "execution": {
     "iopub.execute_input": "2023-04-08T20:42:16.363938Z",
     "iopub.status.busy": "2023-04-08T20:42:16.363089Z",
     "iopub.status.idle": "2023-04-08T20:42:16.372977Z",
     "shell.execute_reply": "2023-04-08T20:42:16.372103Z"
    },
    "papermill": {
     "duration": 0.03409,
     "end_time": "2023-04-08T20:42:16.375223",
     "exception": false,
     "start_time": "2023-04-08T20:42:16.341133",
     "status": "completed"
    },
    "tags": []
   },
   "outputs": [
    {
     "data": {
      "text/plain": [
       "PassengerId      0\n",
       "Survived         0\n",
       "Pclass           0\n",
       "Name             0\n",
       "Sex              0\n",
       "Age            177\n",
       "SibSp            0\n",
       "Parch            0\n",
       "Ticket           0\n",
       "Fare             0\n",
       "Cabin          687\n",
       "Embarked         2\n",
       "Title            0\n",
       "dtype: int64"
      ]
     },
     "execution_count": 18,
     "metadata": {},
     "output_type": "execute_result"
    }
   ],
   "source": [
    "train.isnull().sum()"
   ]
  },
  {
   "cell_type": "markdown",
   "id": "92de9f08",
   "metadata": {
    "papermill": {
     "duration": 0.02022,
     "end_time": "2023-04-08T20:42:16.416441",
     "exception": false,
     "start_time": "2023-04-08T20:42:16.396221",
     "status": "completed"
    },
    "tags": []
   },
   "source": [
    "`Embarked` 특성에 2개의 결측치를 확인할 수 있다.\n",
    "\n",
    "데이터 분석시 결측치가 존재하면 안 되므로 이를 메꾸도록 한다."
   ]
  },
  {
   "cell_type": "code",
   "execution_count": 19,
   "id": "bbc900e0",
   "metadata": {
    "execution": {
     "iopub.execute_input": "2023-04-08T20:42:16.459953Z",
     "iopub.status.busy": "2023-04-08T20:42:16.459111Z",
     "iopub.status.idle": "2023-04-08T20:42:16.465533Z",
     "shell.execute_reply": "2023-04-08T20:42:16.464229Z"
    },
    "papermill": {
     "duration": 0.030745,
     "end_time": "2023-04-08T20:42:16.467714",
     "exception": false,
     "start_time": "2023-04-08T20:42:16.436969",
     "status": "completed"
    },
    "tags": []
   },
   "outputs": [],
   "source": [
    "train['Embarked'].fillna('S',inplace=True)"
   ]
  },
  {
   "cell_type": "markdown",
   "id": "6bcf228e",
   "metadata": {
    "papermill": {
     "duration": 0.020254,
     "end_time": "2023-04-08T20:42:16.508459",
     "exception": false,
     "start_time": "2023-04-08T20:42:16.488205",
     "status": "completed"
    },
    "tags": []
   },
   "source": [
    "여기서는 단순하게 이 두 사람은 사람이 제일 많이 탑승한 항구인 ‘Southampton’에서 탔다고 가정한다."
   ]
  },
  {
   "cell_type": "markdown",
   "id": "2eb507d0",
   "metadata": {
    "papermill": {
     "duration": 0.020444,
     "end_time": "2023-04-08T20:42:16.549801",
     "exception": false,
     "start_time": "2023-04-08T20:42:16.529357",
     "status": "completed"
    },
    "tags": []
   },
   "source": [
    "그리고 String Data로 변형"
   ]
  },
  {
   "cell_type": "code",
   "execution_count": 20,
   "id": "548983db",
   "metadata": {
    "execution": {
     "iopub.execute_input": "2023-04-08T20:42:16.593073Z",
     "iopub.status.busy": "2023-04-08T20:42:16.592360Z",
     "iopub.status.idle": "2023-04-08T20:42:16.599447Z",
     "shell.execute_reply": "2023-04-08T20:42:16.598585Z"
    },
    "papermill": {
     "duration": 0.03151,
     "end_time": "2023-04-08T20:42:16.601751",
     "exception": false,
     "start_time": "2023-04-08T20:42:16.570241",
     "status": "completed"
    },
    "tags": []
   },
   "outputs": [],
   "source": [
    "for dataset in train_and_test:\n",
    "    dataset['Embarked'] = dataset['Embarked'].fillna('S')\n",
    "    dataset['Embarked'] = dataset['Embarked'].astype(str)"
   ]
  },
  {
   "cell_type": "markdown",
   "id": "20b75353",
   "metadata": {
    "papermill": {
     "duration": 0.020948,
     "end_time": "2023-04-08T20:42:16.643442",
     "exception": false,
     "start_time": "2023-04-08T20:42:16.622494",
     "status": "completed"
    },
    "tags": []
   },
   "source": [
    "## 4.4. 나이 특성"
   ]
  },
  {
   "cell_type": "markdown",
   "id": "aa5456a6",
   "metadata": {
    "papermill": {
     "duration": 0.020722,
     "end_time": "2023-04-08T20:42:16.684893",
     "exception": false,
     "start_time": "2023-04-08T20:42:16.664171",
     "status": "completed"
    },
    "tags": []
   },
   "source": [
    "`Age` Feature에도 NaN값은 존재하는데, 일단 빠진 값에는 나머지 모든 승객 나이의 평균을 넣어주자.\n",
    "\n",
    "한편 연속적인 numeric data를 처리하는 방법에도 여러가지가 있는데, 이번에는 Binning을 사용할 것이다.\n",
    "\n",
    "Binnig이란 여러 종류의 데이터에 대해 범위를 지정해주거나 카테고리를 통해 이전보다 작은 수의 그룹으로 만드는 기법이다.\n",
    "\n",
    "이를 통해서 단일성 분포의 왜곡을 막을 수 있지만, 이산화를 통한 데이터의 손실이라는 단점도 존재한다.\n",
    "\n",
    "이번에는 pd.cut()을 이용해 같은 길이의 구간을 가지는 다섯 개의 그룹을 만들어 보자."
   ]
  },
  {
   "cell_type": "markdown",
   "id": "d0f3f291",
   "metadata": {
    "papermill": {
     "duration": 0.020011,
     "end_time": "2023-04-08T20:42:16.725440",
     "exception": false,
     "start_time": "2023-04-08T20:42:16.705429",
     "status": "completed"
    },
    "tags": []
   },
   "source": [
    "이제 `Age`에 들어 있는 값을 위에서 구한 구간에 속하도록 바꿔준다."
   ]
  },
  {
   "cell_type": "code",
   "execution_count": 21,
   "id": "6547aeee",
   "metadata": {
    "execution": {
     "iopub.execute_input": "2023-04-08T20:42:16.768821Z",
     "iopub.status.busy": "2023-04-08T20:42:16.768415Z",
     "iopub.status.idle": "2023-04-08T20:42:16.793970Z",
     "shell.execute_reply": "2023-04-08T20:42:16.792269Z"
    },
    "papermill": {
     "duration": 0.050841,
     "end_time": "2023-04-08T20:42:16.796657",
     "exception": false,
     "start_time": "2023-04-08T20:42:16.745816",
     "status": "completed"
    },
    "tags": []
   },
   "outputs": [
    {
     "name": "stdout",
     "output_type": "stream",
     "text": [
      "         AgeBand  Survived\n",
      "0  (-0.08, 16.0]  0.550000\n",
      "1   (16.0, 32.0]  0.344762\n",
      "2   (32.0, 48.0]  0.403226\n",
      "3   (48.0, 64.0]  0.434783\n",
      "4   (64.0, 80.0]  0.090909\n"
     ]
    }
   ],
   "source": [
    "for dataset in train_and_test:\n",
    "    dataset['Age'].fillna(dataset['Age'].mean(), inplace=True)\n",
    "    dataset['Age'] = dataset['Age'].astype(int)\n",
    "    train['AgeBand'] = pd.cut(train['Age'], 5)\n",
    "print (train[['AgeBand', 'Survived']].groupby(['AgeBand'], as_index=False).mean()) # Survivied ratio about Age Band"
   ]
  },
  {
   "cell_type": "markdown",
   "id": "9769794c",
   "metadata": {
    "papermill": {
     "duration": 0.021467,
     "end_time": "2023-04-08T20:42:16.838747",
     "exception": false,
     "start_time": "2023-04-08T20:42:16.817280",
     "status": "completed"
    },
    "tags": []
   },
   "source": [
    "이제 `Age`에 들어 있는 값을 위에서 구한 구간에 속하도록 바꿔준다."
   ]
  },
  {
   "cell_type": "code",
   "execution_count": 22,
   "id": "c28b4793",
   "metadata": {
    "execution": {
     "iopub.execute_input": "2023-04-08T20:42:16.883805Z",
     "iopub.status.busy": "2023-04-08T20:42:16.883093Z",
     "iopub.status.idle": "2023-04-08T20:42:16.901305Z",
     "shell.execute_reply": "2023-04-08T20:42:16.900335Z"
    },
    "papermill": {
     "duration": 0.043667,
     "end_time": "2023-04-08T20:42:16.904045",
     "exception": false,
     "start_time": "2023-04-08T20:42:16.860378",
     "status": "completed"
    },
    "tags": []
   },
   "outputs": [],
   "source": [
    "for dataset in train_and_test:\n",
    "     dataset.loc[ dataset['Age'] <= 16, 'Age'] = 0\n",
    "     dataset.loc[(dataset['Age'] > 16) & (dataset['Age'] <= 32), 'Age'] = 1\n",
    "     dataset.loc[(dataset['Age'] > 32) & (dataset['Age'] <= 48), 'Age'] = 2\n",
    "     dataset.loc[(dataset['Age'] > 48) & (dataset['Age'] <= 64), 'Age'] = 3\n",
    "     dataset.loc[ dataset['Age'] > 64, 'Age'] = 4\n",
    "     dataset['Age'] = dataset['Age'].map( { 0: 'Child',  1: 'Young', 2: 'Middle', 3: 'Prime', 4: 'Old'} ).astype(str)"
   ]
  },
  {
   "cell_type": "markdown",
   "id": "6996f1f9",
   "metadata": {
    "papermill": {
     "duration": 0.020569,
     "end_time": "2023-04-08T20:42:16.946015",
     "exception": false,
     "start_time": "2023-04-08T20:42:16.925446",
     "status": "completed"
    },
    "tags": []
   },
   "source": [
    "여기서 `Age`을 numeric이 아닌 string 형식으로 넣어주었는데, 숫자에 대한 경향성을 가지고 싶지 않아서 그렇게 했다.\n",
    "\n",
    "사실 Binning과 같이 여기에도 장단점이 존재하는 것 같아 다음번에는 Numeric type으로 학습시켜서 어떻게 예측 결과가 달라지는지도 봐야겠다."
   ]
  },
  {
   "cell_type": "markdown",
   "id": "7894a1d8",
   "metadata": {
    "papermill": {
     "duration": 0.021437,
     "end_time": "2023-04-08T20:42:16.988395",
     "exception": false,
     "start_time": "2023-04-08T20:42:16.966958",
     "status": "completed"
    },
    "tags": []
   },
   "source": [
    "## 4.5. Fare 특성"
   ]
  },
  {
   "cell_type": "markdown",
   "id": "03422699",
   "metadata": {
    "papermill": {
     "duration": 0.020343,
     "end_time": "2023-04-08T20:42:17.039994",
     "exception": false,
     "start_time": "2023-04-08T20:42:17.019651",
     "status": "completed"
    },
    "tags": []
   },
   "source": [
    "Test 데이터 중에서 `Fare` Feature에도 NaN 값이 하나 존재하는데, Pclass와 Fare가 어느 정도 연관성이 있는 것 같아 Fare 데이터가 빠진 값의 Pclass를 가진 사람들의 평균 Fare를 넣어주는 식으로 처리를 해보자."
   ]
  },
  {
   "cell_type": "code",
   "execution_count": 23,
   "id": "47a2278c",
   "metadata": {
    "execution": {
     "iopub.execute_input": "2023-04-08T20:42:17.083645Z",
     "iopub.status.busy": "2023-04-08T20:42:17.082679Z",
     "iopub.status.idle": "2023-04-08T20:42:17.096362Z",
     "shell.execute_reply": "2023-04-08T20:42:17.094838Z"
    },
    "papermill": {
     "duration": 0.038065,
     "end_time": "2023-04-08T20:42:17.098722",
     "exception": false,
     "start_time": "2023-04-08T20:42:17.060657",
     "status": "completed"
    },
    "tags": []
   },
   "outputs": [
    {
     "name": "stdout",
     "output_type": "stream",
     "text": [
      "   Pclass       Fare\n",
      "0       1  84.154687\n",
      "1       2  20.662183\n",
      "2       3  13.675550\n",
      "\n",
      "152    3\n",
      "Name: Pclass, dtype: int64\n"
     ]
    }
   ],
   "source": [
    "print (train[['Pclass', 'Fare']].groupby(['Pclass'], as_index=False).mean())\n",
    "print(\"\")\n",
    "print(test[test[\"Fare\"].isnull()][\"Pclass\"])"
   ]
  },
  {
   "cell_type": "markdown",
   "id": "2a29633e",
   "metadata": {
    "papermill": {
     "duration": 0.020582,
     "end_time": "2023-04-08T20:42:17.139863",
     "exception": false,
     "start_time": "2023-04-08T20:42:17.119281",
     "status": "completed"
    },
    "tags": []
   },
   "source": [
    "위에서 볼 수 있듯이 누락된 데이터의 Pclass는 3이고, train 데이터에서 Pclass가 3인 사람들의 평균 Fare가 13.675550이므로 이 값을 넣어주자."
   ]
  },
  {
   "cell_type": "code",
   "execution_count": 24,
   "id": "aa2cbbd1",
   "metadata": {
    "execution": {
     "iopub.execute_input": "2023-04-08T20:42:17.183458Z",
     "iopub.status.busy": "2023-04-08T20:42:17.182680Z",
     "iopub.status.idle": "2023-04-08T20:42:17.188899Z",
     "shell.execute_reply": "2023-04-08T20:42:17.187642Z"
    },
    "papermill": {
     "duration": 0.03095,
     "end_time": "2023-04-08T20:42:17.191390",
     "exception": false,
     "start_time": "2023-04-08T20:42:17.160440",
     "status": "completed"
    },
    "tags": []
   },
   "outputs": [],
   "source": [
    "for dataset in train_and_test:\n",
    "    dataset['Fare'] = dataset['Fare'].fillna(13.675) # The only one empty fare data's pclass is 3."
   ]
  },
  {
   "cell_type": "markdown",
   "id": "bd306429",
   "metadata": {
    "papermill": {
     "duration": 0.020437,
     "end_time": "2023-04-08T20:42:17.232831",
     "exception": false,
     "start_time": "2023-04-08T20:42:17.212394",
     "status": "completed"
    },
    "tags": []
   },
   "source": [
    "`Age`에서 했던 것처럼 `Fare`에서도 Binning을 해보자. 이번에는 Age에서 했던 것 과는 다르게 Numeric한 값으로 남겨두자."
   ]
  },
  {
   "cell_type": "code",
   "execution_count": 25,
   "id": "bbdb7729",
   "metadata": {
    "execution": {
     "iopub.execute_input": "2023-04-08T20:42:17.275949Z",
     "iopub.status.busy": "2023-04-08T20:42:17.275519Z",
     "iopub.status.idle": "2023-04-08T20:42:17.292720Z",
     "shell.execute_reply": "2023-04-08T20:42:17.291680Z"
    },
    "papermill": {
     "duration": 0.041487,
     "end_time": "2023-04-08T20:42:17.294899",
     "exception": false,
     "start_time": "2023-04-08T20:42:17.253412",
     "status": "completed"
    },
    "tags": []
   },
   "outputs": [],
   "source": [
    "for dataset in train_and_test:\n",
    "    dataset.loc[ dataset['Fare'] <= 7.854, 'Fare'] = 0\n",
    "    dataset.loc[(dataset['Fare'] > 7.854) & (dataset['Fare'] <= 10.5), 'Fare'] = 1\n",
    "    dataset.loc[(dataset['Fare'] > 10.5) & (dataset['Fare'] <= 21.679), 'Fare']   = 2\n",
    "    dataset.loc[(dataset['Fare'] > 21.679) & (dataset['Fare'] <= 39.688), 'Fare']   = 3\n",
    "    dataset.loc[ dataset['Fare'] > 39.688, 'Fare'] = 4\n",
    "    dataset['Fare'] = dataset['Fare'].astype(int)"
   ]
  },
  {
   "cell_type": "markdown",
   "id": "9775f8f7",
   "metadata": {
    "papermill": {
     "duration": 0.020451,
     "end_time": "2023-04-08T20:42:17.336280",
     "exception": false,
     "start_time": "2023-04-08T20:42:17.315829",
     "status": "completed"
    },
    "tags": []
   },
   "source": [
    "## 4.6. 가족 특성"
   ]
  },
  {
   "cell_type": "markdown",
   "id": "b6689f87",
   "metadata": {
    "papermill": {
     "duration": 0.020617,
     "end_time": "2023-04-08T20:42:17.377638",
     "exception": false,
     "start_time": "2023-04-08T20:42:17.357021",
     "status": "completed"
    },
    "tags": []
   },
   "source": [
    "위에서 살펴봤듯이 형제, 자매, 배우자, 부모님, 자녀의 수가 많을 수록 생존한 경우가 많았는데, 두 개의 Feature를 합쳐서 `Family`라는 Feature로 만들자."
   ]
  },
  {
   "cell_type": "code",
   "execution_count": 26,
   "id": "bd9d6ae1",
   "metadata": {
    "execution": {
     "iopub.execute_input": "2023-04-08T20:42:17.421443Z",
     "iopub.status.busy": "2023-04-08T20:42:17.420551Z",
     "iopub.status.idle": "2023-04-08T20:42:17.428807Z",
     "shell.execute_reply": "2023-04-08T20:42:17.427673Z"
    },
    "papermill": {
     "duration": 0.032554,
     "end_time": "2023-04-08T20:42:17.431014",
     "exception": false,
     "start_time": "2023-04-08T20:42:17.398460",
     "status": "completed"
    },
    "tags": []
   },
   "outputs": [],
   "source": [
    "for dataset in train_and_test:\n",
    "    dataset[\"Family\"] = dataset[\"Parch\"] + dataset[\"SibSp\"]\n",
    "    dataset['Family'] = dataset['Family'].astype(int)"
   ]
  },
  {
   "cell_type": "markdown",
   "id": "97fdca97",
   "metadata": {
    "papermill": {
     "duration": 0.020194,
     "end_time": "2023-04-08T20:42:17.471959",
     "exception": false,
     "start_time": "2023-04-08T20:42:17.451765",
     "status": "completed"
    },
    "tags": []
   },
   "source": [
    "## 4.7. 특성 추출 및 나머지 전처리"
   ]
  },
  {
   "cell_type": "markdown",
   "id": "55efc377",
   "metadata": {
    "papermill": {
     "duration": 0.020375,
     "end_time": "2023-04-08T20:42:17.512967",
     "exception": false,
     "start_time": "2023-04-08T20:42:17.492592",
     "status": "completed"
    },
    "tags": []
   },
   "source": [
    "이제 사용할 Feature에 대해서는 전처리가 되었으니, 학습시킬때 제외시킬 Feature들을 Drop 시키자."
   ]
  },
  {
   "cell_type": "code",
   "execution_count": 27,
   "id": "de5fe935",
   "metadata": {
    "execution": {
     "iopub.execute_input": "2023-04-08T20:42:17.556566Z",
     "iopub.status.busy": "2023-04-08T20:42:17.555953Z",
     "iopub.status.idle": "2023-04-08T20:42:17.572452Z",
     "shell.execute_reply": "2023-04-08T20:42:17.570864Z"
    },
    "papermill": {
     "duration": 0.041042,
     "end_time": "2023-04-08T20:42:17.574871",
     "exception": false,
     "start_time": "2023-04-08T20:42:17.533829",
     "status": "completed"
    },
    "tags": []
   },
   "outputs": [
    {
     "name": "stdout",
     "output_type": "stream",
     "text": [
      "   Survived  Pclass     Sex     Age  Fare Embarked Title  Family\n",
      "0         0       3    male   Young     0        S    Mr       1\n",
      "1         1       1  female  Middle     4        C   Mrs       1\n",
      "2         1       3  female   Young     1        S  Miss       0\n",
      "3         1       1  female  Middle     4        S   Mrs       1\n",
      "4         0       3    male  Middle     1        S    Mr       0\n",
      "   PassengerId  Pclass     Sex     Age  Fare Embarked Title  Family\n",
      "0          892       3    male  Middle     0        Q    Mr       0\n",
      "1          893       3  female  Middle     0        S   Mrs       1\n",
      "2          894       2    male   Prime     1        Q    Mr       0\n",
      "3          895       3    male   Young     1        S    Mr       0\n",
      "4          896       3  female   Young     2        S   Mrs       2\n"
     ]
    }
   ],
   "source": [
    "features_drop = ['Name', 'Ticket', 'Cabin', 'SibSp', 'Parch']\n",
    "train = train.drop(features_drop, axis=1)\n",
    "test = test.drop(features_drop, axis=1)\n",
    "train = train.drop(['PassengerId', 'AgeBand'], axis=1)\n",
    "\n",
    "print(train.head())\n",
    "print(test.head())"
   ]
  },
  {
   "cell_type": "markdown",
   "id": "ad09839e",
   "metadata": {
    "papermill": {
     "duration": 0.020258,
     "end_time": "2023-04-08T20:42:17.616132",
     "exception": false,
     "start_time": "2023-04-08T20:42:17.595874",
     "status": "completed"
    },
    "tags": []
   },
   "source": [
    "위와 같이 가공된 train, test 데이터를 볼 수 있다."
   ]
  },
  {
   "cell_type": "markdown",
   "id": "2690fb1f",
   "metadata": {
    "papermill": {
     "duration": 0.020618,
     "end_time": "2023-04-08T20:42:17.657501",
     "exception": false,
     "start_time": "2023-04-08T20:42:17.636883",
     "status": "completed"
    },
    "tags": []
   },
   "source": [
    "마지막으로 Categorical Feature에 대해 one-hot encoding과 train data와 label을 분리시키는 작업을 하면 예측 모델에 학습시킬 준비가 끝났다."
   ]
  },
  {
   "cell_type": "code",
   "execution_count": 28,
   "id": "1bb9e814",
   "metadata": {
    "execution": {
     "iopub.execute_input": "2023-04-08T20:42:17.700909Z",
     "iopub.status.busy": "2023-04-08T20:42:17.700410Z",
     "iopub.status.idle": "2023-04-08T20:42:17.722389Z",
     "shell.execute_reply": "2023-04-08T20:42:17.721360Z"
    },
    "papermill": {
     "duration": 0.046627,
     "end_time": "2023-04-08T20:42:17.724971",
     "exception": false,
     "start_time": "2023-04-08T20:42:17.678344",
     "status": "completed"
    },
    "tags": []
   },
   "outputs": [],
   "source": [
    "# One-hot-encoding for categorical variables\n",
    "train = pd.get_dummies(train)\n",
    "test = pd.get_dummies(test)\n",
    "\n",
    "train_label = train['Survived']\n",
    "train_data = train.drop('Survived', axis=1)\n",
    "test_data = test.drop(\"PassengerId\", axis=1).copy()"
   ]
  },
  {
   "cell_type": "markdown",
   "id": "e9fea6e9",
   "metadata": {
    "papermill": {
     "duration": 0.023868,
     "end_time": "2023-04-08T20:42:17.769976",
     "exception": false,
     "start_time": "2023-04-08T20:42:17.746108",
     "status": "completed"
    },
    "tags": []
   },
   "source": [
    "# 5. 모델 설계 및 학습"
   ]
  },
  {
   "cell_type": "markdown",
   "id": "283f10e7",
   "metadata": {
    "papermill": {
     "duration": 0.021107,
     "end_time": "2023-04-08T20:42:17.812467",
     "exception": false,
     "start_time": "2023-04-08T20:42:17.791360",
     "status": "completed"
    },
    "tags": []
   },
   "source": [
    "이번에 사용할 예측 모델은 다음과 같이 5가지가 있다.\n",
    "\n",
    "1. Logistic Regression\n",
    "2. Support Vector Machine (SVM)\n",
    "3. k-Nearest Neighbor (kNN)\n",
    "4. Random Forest\n",
    "5. Naive Bayes\n",
    "\n",
    "나중에 위의 모델에 대한 자세한 설명을 포스팅 할 텐데, 일단 이런 예측 모델이 있다고 하고 넘어가자.\n",
    "\n",
    "일단 위 모델을 사용하기 위해서 필요한 `scikit-learn` 라이브러리를 불러오자."
   ]
  },
  {
   "cell_type": "code",
   "execution_count": 29,
   "id": "da4edbea",
   "metadata": {
    "execution": {
     "iopub.execute_input": "2023-04-08T20:42:17.856972Z",
     "iopub.status.busy": "2023-04-08T20:42:17.856523Z",
     "iopub.status.idle": "2023-04-08T20:42:18.339500Z",
     "shell.execute_reply": "2023-04-08T20:42:18.338279Z"
    },
    "papermill": {
     "duration": 0.508518,
     "end_time": "2023-04-08T20:42:18.342476",
     "exception": false,
     "start_time": "2023-04-08T20:42:17.833958",
     "status": "completed"
    },
    "tags": []
   },
   "outputs": [],
   "source": [
    "from sklearn.linear_model import LogisticRegression\n",
    "from sklearn.svm import SVC\n",
    "from sklearn.neighbors import KNeighborsClassifier\n",
    "from sklearn.ensemble import RandomForestClassifier\n",
    "from sklearn.naive_bayes import GaussianNB\n",
    "\n",
    "from sklearn.utils import shuffle"
   ]
  },
  {
   "cell_type": "markdown",
   "id": "44185c7f",
   "metadata": {
    "papermill": {
     "duration": 0.021072,
     "end_time": "2023-04-08T20:42:18.385207",
     "exception": false,
     "start_time": "2023-04-08T20:42:18.364135",
     "status": "completed"
    },
    "tags": []
   },
   "source": [
    "학습시키기 전에는 주어진 데이터가 정렬되어있어 학습에 방해가 될 수도 있으므로 섞어주도록 하자."
   ]
  },
  {
   "cell_type": "code",
   "execution_count": 30,
   "id": "9b4e6a56",
   "metadata": {
    "execution": {
     "iopub.execute_input": "2023-04-08T20:42:18.432150Z",
     "iopub.status.busy": "2023-04-08T20:42:18.431735Z",
     "iopub.status.idle": "2023-04-08T20:42:18.440435Z",
     "shell.execute_reply": "2023-04-08T20:42:18.439307Z"
    },
    "papermill": {
     "duration": 0.034325,
     "end_time": "2023-04-08T20:42:18.442975",
     "exception": false,
     "start_time": "2023-04-08T20:42:18.408650",
     "status": "completed"
    },
    "tags": []
   },
   "outputs": [],
   "source": [
    "train_data, train_label = shuffle(train_data, train_label, random_state = 5)"
   ]
  },
  {
   "cell_type": "markdown",
   "id": "36e3380d",
   "metadata": {
    "papermill": {
     "duration": 0.021263,
     "end_time": "2023-04-08T20:42:18.485878",
     "exception": false,
     "start_time": "2023-04-08T20:42:18.464615",
     "status": "completed"
    },
    "tags": []
   },
   "source": [
    "이제 모델 학습과 평가에 대한 pipeline을 만들자.\n",
    "\n",
    "사실 scikit-learn에서 제공하는 fit()과 predict()를 사용하면 매우 간단하게 학습과 예측을 할 수 있어서 그냥 하나의 함수만 만들면 편하게 사용가능하다."
   ]
  },
  {
   "cell_type": "code",
   "execution_count": 31,
   "id": "16f6996f",
   "metadata": {
    "execution": {
     "iopub.execute_input": "2023-04-08T20:42:18.529704Z",
     "iopub.status.busy": "2023-04-08T20:42:18.529316Z",
     "iopub.status.idle": "2023-04-08T20:42:18.535547Z",
     "shell.execute_reply": "2023-04-08T20:42:18.534341Z"
    },
    "papermill": {
     "duration": 0.031136,
     "end_time": "2023-04-08T20:42:18.538104",
     "exception": false,
     "start_time": "2023-04-08T20:42:18.506968",
     "status": "completed"
    },
    "tags": []
   },
   "outputs": [],
   "source": [
    "def train_and_test(model):\n",
    "    model.fit(train_data, train_label)\n",
    "    prediction = model.predict(test_data)\n",
    "    accuracy = round(model.score(train_data, train_label) * 100, 2)\n",
    "    print(\"Accuracy : \", accuracy, \"%\")\n",
    "    return prediction"
   ]
  },
  {
   "cell_type": "markdown",
   "id": "3e3b002d",
   "metadata": {
    "papermill": {
     "duration": 0.020618,
     "end_time": "2023-04-08T20:42:18.579589",
     "exception": false,
     "start_time": "2023-04-08T20:42:18.558971",
     "status": "completed"
    },
    "tags": []
   },
   "source": [
    "이 함수에 다섯가지 모델을 넣어주면 학습과 평가가 완료된다."
   ]
  },
  {
   "cell_type": "code",
   "execution_count": 32,
   "id": "9abc1435",
   "metadata": {
    "execution": {
     "iopub.execute_input": "2023-04-08T20:42:18.623510Z",
     "iopub.status.busy": "2023-04-08T20:42:18.623028Z",
     "iopub.status.idle": "2023-04-08T20:42:19.252224Z",
     "shell.execute_reply": "2023-04-08T20:42:19.250760Z"
    },
    "papermill": {
     "duration": 0.654366,
     "end_time": "2023-04-08T20:42:19.254929",
     "exception": false,
     "start_time": "2023-04-08T20:42:18.600563",
     "status": "completed"
    },
    "tags": []
   },
   "outputs": [
    {
     "name": "stdout",
     "output_type": "stream",
     "text": [
      "Accuracy :  82.72 %\n",
      "Accuracy :  83.5 %\n",
      "Accuracy :  84.51 %\n",
      "Accuracy :  88.55 %\n",
      "Accuracy :  79.8 %\n"
     ]
    }
   ],
   "source": [
    "# Logistic Regression\n",
    "log_pred = train_and_test(LogisticRegression())\n",
    "# SVM\n",
    "svm_pred = train_and_test(SVC())\n",
    "#kNN\n",
    "knn_pred_4 = train_and_test(KNeighborsClassifier(n_neighbors = 4))\n",
    "# Random Forest\n",
    "rf_pred = train_and_test(RandomForestClassifier(n_estimators=100))\n",
    "# Navie Bayes\n",
    "nb_pred = train_and_test(GaussianNB())"
   ]
  },
  {
   "cell_type": "markdown",
   "id": "9430612c",
   "metadata": {
    "papermill": {
     "duration": 0.020638,
     "end_time": "2023-04-08T20:42:19.296978",
     "exception": false,
     "start_time": "2023-04-08T20:42:19.276340",
     "status": "completed"
    },
    "tags": []
   },
   "source": [
    "# 6. 마무리"
   ]
  },
  {
   "cell_type": "markdown",
   "id": "e77b79e5",
   "metadata": {
    "papermill": {
     "duration": 0.020529,
     "end_time": "2023-04-08T20:42:19.338116",
     "exception": false,
     "start_time": "2023-04-08T20:42:19.317587",
     "status": "completed"
    },
    "tags": []
   },
   "source": [
    "위에서 볼 수 있듯 4번째 모델인 Random Forest에서 가장 높은 정확도(88.55%)를 보였는데, 이 모델을 채택해서 submission 해보자."
   ]
  },
  {
   "cell_type": "code",
   "execution_count": 33,
   "id": "2c117fb3",
   "metadata": {
    "execution": {
     "iopub.execute_input": "2023-04-08T20:42:19.382056Z",
     "iopub.status.busy": "2023-04-08T20:42:19.381652Z",
     "iopub.status.idle": "2023-04-08T20:42:19.392985Z",
     "shell.execute_reply": "2023-04-08T20:42:19.392041Z"
    },
    "papermill": {
     "duration": 0.0364,
     "end_time": "2023-04-08T20:42:19.395333",
     "exception": false,
     "start_time": "2023-04-08T20:42:19.358933",
     "status": "completed"
    },
    "tags": []
   },
   "outputs": [],
   "source": [
    "submission = pd.DataFrame({\n",
    "    \"PassengerId\": test[\"PassengerId\"],\n",
    "    \"Survived\": rf_pred\n",
    "})\n",
    "\n",
    "submission.to_csv('submission_rf.csv', index=False)"
   ]
  }
 ],
 "metadata": {
  "kernelspec": {
   "display_name": "Python 3",
   "language": "python",
   "name": "python3"
  },
  "language_info": {
   "codemirror_mode": {
    "name": "ipython",
    "version": 3
   },
   "file_extension": ".py",
   "mimetype": "text/x-python",
   "name": "python",
   "nbconvert_exporter": "python",
   "pygments_lexer": "ipython3",
   "version": "3.7.12"
  },
  "papermill": {
   "default_parameters": {},
   "duration": 19.379165,
   "end_time": "2023-04-08T20:42:20.239147",
   "environment_variables": {},
   "exception": null,
   "input_path": "__notebook__.ipynb",
   "output_path": "__notebook__.ipynb",
   "parameters": {},
   "start_time": "2023-04-08T20:42:00.859982",
   "version": "2.4.0"
  }
 },
 "nbformat": 4,
 "nbformat_minor": 5
}
